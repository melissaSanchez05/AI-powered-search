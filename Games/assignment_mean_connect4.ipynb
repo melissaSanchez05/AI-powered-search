{
  "cells": [
    {
      "cell_type": "markdown",
      "metadata": {
        "id": "WyISr3c6L8cY"
      },
      "source": [
        "# Adversarial Search: Playing \"Mean\" Connect 4\n",
        "\n",
        "\n",
        "## Instructions\n",
        "\n",
        "Name: Melissa Sanchez\n",
        "\n",
        "I understand that my submission needs to be my own work: Yes\n",
        "\n",
        "Points: 10\n",
        "\n",
        "\n",
        "---\n",
        "\n",
        "\n",
        "\n",
        "## Introduction\n",
        "\n",
        "You will implement different versions of agents that play \"Mean\" Connect 4:\n",
        "\n",
        "> \"Connect 4 is a two-player connection board game, in which the players choose a color and then take turns dropping colored discs into a seven-column, six-row vertically suspended grid. The pieces fall straight down, occupying the lowest available space within the column. The objective of the game is to be the first to form a horizontal, vertical, or diagonal line of four of one's own discs.\" (see [Connect Four on Wikipedia](https://en.wikipedia.org/wiki/Connect_Four))\n",
        "\n",
        "> **The mean part:** This game has an additional rule. Every time it is a player's turn, the player can decide to instead of playing a new disk, take a bottom row disk of the opponent and place it back in the top of the same column. All disks above the removed disk will fall down one position and the removed one will be placed on top. Note that a player can only move an _opponent's disc_ that is in the _bottom row_ of the board. **Further, you are not allowed to play a mean move if your opponent just played one.** This ensures the game will end at some point. This also may affect the definition of a state, compared with standard Connect 4.\n",
        "\n",
        "If a mean move causes both players to win, the game immediately ends and it is a tie, even if one player has more connect-4s than the other one. If a mean move causes one player to win, then the game also ends and the player with the connect-4 is the winner.\n",
        "\n",
        "Note that normal [Connect-4 has been solved](https://en.wikipedia.org/wiki/Connect_Four#Mathematical_solution)\n",
        "in 1988. A connect-4 solver with a discussion of how to solve different parts of the problem can be found here: https://connect4.gamesolver.org/en/"
      ]
    },
    {
      "cell_type": "markdown",
      "metadata": {
        "id": "zuWbcK6gL8cZ"
      },
      "source": [
        "## Task 1: Defining the Search Problem [1 point]\n",
        "\n",
        "Define the components of the search problem associated with this game:\n",
        "\n",
        "* Initial state\n",
        "* Actions\n",
        "* Transition model\n",
        "* Test for the terminal state\n",
        "* Utility for terminal states"
      ]
    },
    {
      "cell_type": "code",
      "execution_count": null,
      "metadata": {
        "id": "uzLitKOdL8cf"
      },
      "outputs": [],
      "source": [
        "'''\n",
        "initial state: a board with 6 rows and 7 columns with no disks\n",
        "actions: players can\n",
        "          1) select a disk of thier color and drop it along the columns\n",
        "          2) play a mean move: select a botton row disk from the opponent and place it back in the top of the same column\n",
        "          3) a mean move can't be played if the opponent just played one\n",
        "transition model:\n",
        "                  1) switch player's turns\n",
        "                  2) update the board by the current player move\n",
        "                  3) update a flag to indicate if a mean move was played\n",
        "                  4) check the board for a win or draw\n",
        "test for the terminal state: a player as\n",
        "                              1) check the board for a winner: form a 4-line vertical, horizontal, or diagonal of the same color disk\n",
        "                              2) board has been compleated: no more disks can be added\n",
        "utility for terminal states:\n",
        "                            1) o for a tie\n",
        "                            2) 1 for a win by the player\n",
        "                            3) -1 for a win by the opponent\n",
        "'''"
      ]
    },
    {
      "cell_type": "markdown",
      "metadata": {
        "id": "cHDORt8_L8cg"
      },
      "source": [
        "How big is the state space? Give an estimate and explain it."
      ]
    },
    {
      "cell_type": "code",
      "execution_count": null,
      "metadata": {
        "id": "D_GIsO80L8cg"
      },
      "outputs": [],
      "source": [
        "'''\n",
        "standard connect-4 has a spece of 3(tie, p1,p2) ** (7 * 6)= 3 ** 42, however in the addition of the mean move\n",
        "the space is larger compared to the standard connect-4. However the legal posiiton of both the standard game\n",
        "and modified are the same\n",
        "'''"
      ]
    },
    {
      "cell_type": "markdown",
      "metadata": {
        "id": "7ci9AS2QL8ch"
      },
      "source": [
        "How big is the game tree that minimax search will go through? Give an estimate and explain it."
      ]
    },
    {
      "cell_type": "code",
      "execution_count": null,
      "metadata": {
        "id": "iTkWu4ZiL8ci"
      },
      "outputs": [],
      "source": [
        "'''\n",
        "the game tree is all posible moves that can be made by one player. Each player can place a disk in one of the each column (7) plus\n",
        "if a mean move is allowed it could be 7 more posible places, 14 per turn.\n",
        "Each game could take up to 42 moves (to filled the whole board).\n",
        "On the worse case the tree can go up to 14 ** 42 nodes\n",
        "'''"
      ]
    },
    {
      "cell_type": "markdown",
      "metadata": {
        "id": "u66LNfUEL8ci"
      },
      "source": [
        "## Task 2: Game Environment and Random Agent [3 point]\n",
        "\n",
        "You can use a numpy character array as the board. Note that the following function can create boards of different sizes."
      ]
    },
    {
      "cell_type": "code",
      "execution_count": 2,
      "metadata": {
        "id": "gFoRCZefL8cj",
        "outputId": "2ddaf2f3-c21c-489b-d28a-0848274ec275",
        "colab": {
          "base_uri": "https://localhost:8080/",
          "height": 0
        }
      },
      "outputs": [
        {
          "output_type": "stream",
          "name": "stdout",
          "text": [
            "[[0 0 0 0 0 0 0]\n",
            " [0 0 0 0 0 0 0]\n",
            " [0 0 0 0 0 0 0]\n",
            " [0 0 0 0 0 0 0]\n",
            " [0 0 0 0 0 0 0]\n",
            " [0 0 0 0 0 0 0]]\n"
          ]
        }
      ],
      "source": [
        "import numpy as np\n",
        "\n",
        "def empty_board(shape=(6, 7)):\n",
        "    return np.full(shape=shape, fill_value=0)\n",
        "\n",
        "print(empty_board())"
      ]
    },
    {
      "cell_type": "markdown",
      "metadata": {
        "id": "GCCwVya8L8cj"
      },
      "source": [
        "Instead of colors (red and yellow), you can use 1 and -1 to represent the players Max and Min. Make sure that your agent functions all have the from: `agent_type(state, player = 1)`, where board is the current board position and player is the player (1, -1) whose next move it is and who the agent should play."
      ]
    },
    {
      "cell_type": "markdown",
      "metadata": {
        "id": "DtsGKQPsL8ck"
      },
      "source": [
        "Visualization code by Randolph Rankin:"
      ]
    },
    {
      "cell_type": "code",
      "execution_count": 11,
      "metadata": {
        "scrolled": true,
        "id": "dRChZkdZL8ck",
        "outputId": "1148a38a-2cc7-48ec-8dd0-b1df0714d6d1",
        "colab": {
          "base_uri": "https://localhost:8080/",
          "height": 430
        }
      },
      "outputs": [
        {
          "output_type": "display_data",
          "data": {
            "text/plain": [
              "<Figure size 640x480 with 1 Axes>"
            ],
            "image/png": "[encoded data removed]"
          },
          "metadata": {}
        }
      ],
      "source": [
        "import matplotlib.pyplot as plt\n",
        "\n",
        "def visualize(board):\n",
        "    plt.axes()\n",
        "    rectangle=plt.Rectangle((-0.5,len(board)*-1+0.5),len(board[0]),len(board),fc='blue')\n",
        "    circles=[]\n",
        "    for i,row in enumerate(board):\n",
        "        for j,val in enumerate(row):\n",
        "            color='white' if val==0 else 'red' if val==1 else 'yellow'\n",
        "            circles.append(plt.Circle((j,i*-1),0.4,fc=color))\n",
        "\n",
        "    plt.gca().add_patch(rectangle)\n",
        "    for circle in circles:\n",
        "        plt.gca().add_patch(circle)\n",
        "\n",
        "    plt.axis('scaled')\n",
        "    plt.show()\n",
        "\n",
        "board = [[0, 0, 0, 0, 0, 0, 0],\n",
        "         [0, 0, 0, 0, 0, 0, 0],\n",
        "         [0, 0, 0, 0, 0, 0, 0],\n",
        "         [0, 0, 0, 1, 0, 0, 0],\n",
        "         [0, 0, 0, 1, 0, 0, 0],\n",
        "         [0,-1,-1, 1,-1, 0, 0]]\n",
        "\n",
        "visualize(board)"
      ]
    },
    {
      "cell_type": "markdown",
      "metadata": {
        "id": "ZOa_fihRL8ck"
      },
      "source": [
        "Implement helper functions for:\n",
        "\n",
        "* The transition model $result(s, a)$.\n",
        "* The utility function $utility(s)$.\n",
        "* Check for terminal states $terminal(s)$.\n",
        "* A check for available actions in each state $actions(s)$.\n",
        "\n",
        "Make sure that all these functions work with boards of different sizes (number of columns and rows)."
      ]
    },
    {
      "cell_type": "code",
      "execution_count": 3,
      "metadata": {
        "id": "8sDMBWFtL8ck"
      },
      "outputs": [],
      "source": [
        "import random\n",
        "def check_board(board, player, connect=4):\n",
        "  row, column = board.shape\n",
        "  #horizontal\n",
        "  for r in range(row):\n",
        "    for c in range(column - connect + 1):\n",
        "      if np.all(board[r,c : c + connect] == player):\n",
        "        return True\n",
        "  #vertical\n",
        "  for c in range(column):\n",
        "    for r in range(row - connect + 1):\n",
        "      if np.all(board[r: r + connect, c] == player):\n",
        "        return True\n",
        "  #diagonal /\n",
        "  #reduced the grid from row and column up to possible moves up to connect on the lower left corner\n",
        "  for r in range(connect - 1, row):\n",
        "    for c in range(column - connect + 1):\n",
        "      if np.all(np.array([board[r - i , c + i] for i in range(connect)]) == player):\n",
        "        return True\n",
        "\n",
        "  #diagonal \\\n",
        "  #reduced the grid from row and column up to possible moves up to connect on the upper left corner\n",
        "  for r in range(row - connect + 1):\n",
        "    for c in range(column - connect + 1):\n",
        "      if np.all(np.array([board[r + i , c + i] for i in range(connect)]) == player):\n",
        "        return True\n",
        "\n",
        "  return False\n",
        "\n",
        "\n",
        "def utility(state): #determinate a winnder or tie\n",
        "  board, mean_flag, player = state\n",
        "\n",
        "  #check if current player is a winner\n",
        "  current_player_result = check_board(board, player)\n",
        "  opponent_player_result = check_board(board, -player)\n",
        "\n",
        "  if current_player_result and opponent_player_result:\n",
        "    return 0 #tie\n",
        "  elif current_player_result:\n",
        "    return player\n",
        "  elif opponent_player_result:\n",
        "    return -player\n",
        "  else:\n",
        "    return 0 #board is full\n",
        "\n",
        "def terminal(state): #check for a winner\n",
        "  board, mean_flag, player = state\n",
        "\n",
        "  #check if the game has terminated (any player has a connect or board is full)\n",
        "  current_player_result = check_board(board, player)\n",
        "  opponent_player_result = check_board(board, -player)\n",
        "  if current_player_result or opponent_player_result or not (board == 0).any():\n",
        "    return True\n",
        "  return False\n",
        "\n",
        "def actions(state): #actions\n",
        "  #return all posible actions based on the board's state\n",
        "  # actions are a tuple (move_type, c) move type is either standard or mean in which column\n",
        "  #standard move is posible at any column that is not full\n",
        "  #mean move is posible if 1) mean_flag is not set and 2) there is an opponent disk in the bottom row\n",
        "  board, mean_flag  , player= state\n",
        "  row, column = board.shape\n",
        "\n",
        "  moves = []\n",
        "\n",
        "  #standard moves\n",
        "  for c in range(column):\n",
        "    if board[0, c] == 0:\n",
        "      moves.append(('standard', c ))\n",
        "\n",
        "  #mean moves\n",
        "  if not mean_flag:\n",
        "    for c in range(column):\n",
        "      if board[row - 1, c] == (-1 * player):\n",
        "        moves.append(('mean', c))\n",
        "\n",
        "  return moves\n",
        "\n",
        "def result_state(state, action): #transitional model\n",
        "  board, mean_flag , player = state\n",
        "  row, column = board.shape\n",
        "  new_board = board.copy()\n",
        "  move_type, c = action\n",
        "\n",
        "  #play a move by the current player\n",
        "  #update mean_flag is mean move was played\n",
        "\n",
        "  if move_type == 'standard':\n",
        "    #drop a disk\n",
        "    for r in range(row - 1, -1, -1):\n",
        "      if new_board[r, c] == 0:\n",
        "        new_board[r,c] = player\n",
        "        break\n",
        "    #update state\n",
        "    new_state = (new_board, False, -player)\n",
        "\n",
        "  elif move_type == 'mean' and new_board[row -1, c] == -player:#play a mean move\n",
        "\n",
        "    #shift by 1\n",
        "    for r in range(row - 1, 0, -1):\n",
        "      new_board[r,c] = new_board[r-1,c]\n",
        "\n",
        "    #add the opponent player disk on top\n",
        "    placed = False\n",
        "    for r in range(row):\n",
        "      if new_board[r,c] == 0:\n",
        "        new_board[r,c] = -player\n",
        "        placed = True\n",
        "        break\n",
        "    #overide the top cell\n",
        "    if not placed:\n",
        "      new_board[0,c] = -player\n",
        "    new_state = (new_board, True, -player)\n",
        "  else:\n",
        "    new_state = (new_board, mean_flag, -player)\n",
        "  return new_state\n",
        "\n"
      ]
    },
    {
      "cell_type": "markdown",
      "metadata": {
        "id": "8T7SYQM4L8cl"
      },
      "source": [
        "Implement an agent that plays randomly. Make sure the agent function receives as the percept the game state and returns a valid action. Use an agent function definition with the following signature (arguments):\n",
        "\n",
        "`def random_player(state, player = None): ...`\n",
        "\n",
        "The argument `player` is used for agents that do not store what side they are playing. The value passed on by the environment should be 1 ot -1 for playerred and yellow, respectively.  See [Experiments section for tic-tac-toe](https://nbviewer.org/github/mhahsler/CS7320-AI/blob/master/Games/tictactoe_and_or_tree_search.ipynb#Experiments) for an example."
      ]
    },
    {
      "cell_type": "code",
      "execution_count": 4,
      "metadata": {
        "id": "g0uUKNKNL8cl"
      },
      "outputs": [],
      "source": [
        "def random_player(state, player=None):\n",
        "  if player is not None:\n",
        "      board, mean_flag, _ = state\n",
        "      state = (board, mean_flag, player)\n",
        "\n",
        "  legal_moves = actions(state)\n",
        "\n",
        "  if not legal_moves:\n",
        "    return None\n",
        "\n",
        "  return random.choice(legal_moves)"
      ]
    },
    {
      "cell_type": "markdown",
      "metadata": {
        "id": "rS3yOFlbL8cl"
      },
      "source": [
        "Let two random agents play against each other 1000 times. Look at the [Experiments section for tic-tac-toe](https://nbviewer.org/github/mhahsler/CS7320-AI/blob/master/Games/tictactoe_and_or_tree_search.ipynb#Experiments) to see how the environment uses the agent functions to play against each other.\n",
        "\n",
        "How often does each player win? Is the result expected?"
      ]
    },
    {
      "cell_type": "code",
      "execution_count": 12,
      "metadata": {
        "tags": [],
        "id": "55tvNH3vL8cl",
        "colab": {
          "base_uri": "https://localhost:8080/",
          "height": 0
        },
        "outputId": "4869bdac-aa97-49b1-d8cb-cb7eca6f7b37"
      },
      "outputs": [
        {
          "output_type": "stream",
          "name": "stdout",
          "text": [
            "For 1000 games\n",
            "player 1:  won 470 times\n",
            "player -1: won 285 times\n",
            "player resulted in at tie:  245 times\n"
          ]
        }
      ],
      "source": [
        "def start_game(random_player, row, column):\n",
        "\n",
        "  board = empty_board((row, column))\n",
        "\n",
        "  state = (board, False, 1 )\n",
        "\n",
        "  #play until the terimal state\n",
        "  while not terminal(state):\n",
        "    current_player = state[2]\n",
        "\n",
        "    action = random_player(state, current_player)\n",
        "\n",
        "    if action is None:\n",
        "      break\n",
        "\n",
        "    state = result_state(state, action)\n",
        "  return utility(state)\n",
        "\n",
        "games = 1000\n",
        "r, c = 6,7\n",
        "results = {1: 0, -1: 0, 0: 0}\n",
        "for _ in range(games):\n",
        "  winner = start_game(random_player, r, c)\n",
        "  results[winner]+=1\n",
        "\n",
        "print(f'For {games} games')\n",
        "print(f'player 1:  won {results[1]} times')\n",
        "print(f'player -1: won {results[-1]} times')\n",
        "print(f'player resulted in at tie:  {results[0]} times')\n",
        "\n"
      ]
    },
    {
      "cell_type": "markdown",
      "metadata": {
        "id": "DvzOxRDpL8cm"
      },
      "source": [
        "## Task 3: Minimax Search with Alpha-Beta Pruning [3 points]\n",
        "\n",
        "### Implement the search starting.\n",
        "\n",
        "Implement the search starting from a given state and specifying the player and put it into an agent function.\n",
        "You can use code from the [tic-tac-toe example](https://nbviewer.org/github/mhahsler/CS7320-AI/blob/master/Games/tictactoe_alpha_beta_tree_search.ipynb).\n",
        "\n",
        "__Notes:__\n",
        "* Make sure that all your agent functions have a signature consistent with the random agent above.\n",
        "* The search space for a $6 \\times 7$ board is large. You can experiment with smaller boards (the smallest is $4 \\times 4$) and/or changing the winning rule to connect 3 instead of 4."
      ]
    },
    {
      "cell_type": "code",
      "execution_count": 5,
      "metadata": {
        "id": "GJ2xQLrWL8cm"
      },
      "outputs": [],
      "source": [
        "\n",
        "\n",
        "def min_max_value(state, alpha, beta, depth, max_player):\n",
        "  #alpha: best exlpored option for the minimizer\n",
        "  #beta: best explored option for the maximizer\n",
        "  #depth: search depth\n",
        "  #max_player: original player maximizer\n",
        "  board, mean_flag, player = state\n",
        "\n",
        "  #if the game is over of depth is 0\n",
        "  if terminal(state) or depth == 0:\n",
        "    return utility(state)\n",
        "\n",
        "  #maximizing player (original player)\n",
        "  if state[2] == max_player:\n",
        "    value = float('-inf')\n",
        "    for action in actions(state):\n",
        "      child_state = result_state(state, action)\n",
        "      value = max(value, min_max_value(child_state, alpha, beta, depth - 1, max_player))\n",
        "      alpha = max(alpha, value)\n",
        "      if alpha >= beta:\n",
        "        break\n",
        "    return value\n",
        "  #minimzing player (opponent player)\n",
        "  else:\n",
        "    value = float('inf')\n",
        "    for action in actions(state):\n",
        "      child_state = result_state(state, action)\n",
        "      value = min(value, min_max_value(child_state, alpha, beta, depth - 1, max_player))\n",
        "      alpha = min(beta, value)\n",
        "      if beta <= alpha:\n",
        "        break\n",
        "    return value\n",
        "\n",
        "def min_max_agent(state, player=None, depth_limit=4):\n",
        "  if player is None:\n",
        "    board, mean_flag, _ = state\n",
        "    state = (board, mean_flag, player)\n",
        "\n",
        "  max_player = state[2]\n",
        "  best_action = None\n",
        "  best_value = float('-inf')\n",
        "\n",
        "  for action in actions(state):\n",
        "    child_state = result_state(state, action)\n",
        "    value = min_max_value(child_state, float('-inf'), float('inf'), depth_limit - 1, max_player)\n",
        "\n",
        "    if value > best_value:\n",
        "      best_value = value\n",
        "      best_action = action\n",
        "  return best_action"
      ]
    },
    {
      "cell_type": "markdown",
      "metadata": {
        "id": "XQeK9qFXL8cm"
      },
      "source": [
        "Experiment with some manually created boards (at least 5) to check if the agent spots winning opportunities."
      ]
    },
    {
      "cell_type": "code",
      "execution_count": 6,
      "metadata": {
        "id": "ECcMh7WTL8cm",
        "colab": {
          "base_uri": "https://localhost:8080/",
          "height": 0
        },
        "outputId": "6242b61c-838e-4e50-c577-101b4905ff94"
      },
      "outputs": [
        {
          "output_type": "stream",
          "name": "stdout",
          "text": [
            "    (r,c)  move selected  time (s)\n",
            "0  (6, 4)  (standard, 0)  0.641659\n",
            "1  (6, 5)  (standard, 0)  1.170766\n",
            "2  (6, 6)  (standard, 0)  3.882929\n",
            "3  (6, 7)  (standard, 0)  0.013358\n",
            "4  (6, 8)  (standard, 0)  0.018073\n"
          ]
        }
      ],
      "source": [
        "import time\n",
        "import pandas as pd\n",
        "def winning_board(row, col, player):\n",
        "  board = empty_board((row, col))\n",
        "  if col >4:\n",
        "    board[row -1 : col - 1] = player\n",
        "  return board\n",
        "\n",
        "\n",
        "times = []\n",
        "legal_moves =[]\n",
        "diamentions =[]\n",
        "for c in [4,5,6,7,8]:\n",
        "  board = winning_board(6, c, player=1)\n",
        "  state = (board, False, 1)\n",
        "  start = time.time()\n",
        "  move = min_max_agent(state, player=1, depth_limit=4)\n",
        "  end = time.time() - start\n",
        "\n",
        "  times.append(end)\n",
        "  legal_moves.append(move)\n",
        "  diamentions.append((6,c))\n",
        "\n",
        "data = {\n",
        "  '(r,c)': diamentions,\n",
        "  'move selected': legal_moves,\n",
        "  'time (s)': times\n",
        "}\n",
        "df = pd.DataFrame.from_dict(data)\n",
        "print(df)\n"
      ]
    },
    {
      "cell_type": "markdown",
      "metadata": {
        "id": "8ByI_b2VL8cm"
      },
      "source": [
        "How long does it take to make a move? Start with a smaller board with 4 columns and make the board larger by adding columns."
      ]
    },
    {
      "cell_type": "code",
      "execution_count": 13,
      "metadata": {
        "id": "1kG2qLFIL8cm",
        "colab": {
          "base_uri": "https://localhost:8080/",
          "height": 0
        },
        "outputId": "870d4987-d6ac-4630-b8d4-b9ed2fac9b9e"
      },
      "outputs": [
        {
          "output_type": "stream",
          "name": "stdout",
          "text": [
            "    (r,c)  move selected  time (s)\n",
            "0  (6, 4)  (standard, 3)  0.310393\n",
            "1  (6, 5)  (standard, 0)  0.003353\n",
            "2  (6, 6)  (standard, 0)  0.006651\n",
            "3  (6, 7)  (standard, 0)  0.008199\n",
            "4  (6, 8)  (standard, 0)  0.014637\n"
          ]
        }
      ],
      "source": [
        "import time\n",
        "import pandas as pd\n",
        "def manual_boards(col):\n",
        "  board = empty_board((6,col))\n",
        "  board[5, :col -1 ] = 1\n",
        "  return board\n",
        "\n",
        "times = []\n",
        "legal_moves =[]\n",
        "diamentions =[]\n",
        "for col in [4,5,6,7,8]:\n",
        "  board = manual_boards(col)\n",
        "  state = (board, False, 1)\n",
        "\n",
        "  start = time.time()\n",
        "  move = min_max_agent(state, player=1, depth_limit=4)\n",
        "  end = time.time() - start\n",
        "\n",
        "  times.append(end)\n",
        "  legal_moves.append(move)\n",
        "  diamentions.append((6,col))\n",
        "\n",
        "data = {\n",
        "'(r,c)': diamentions,\n",
        "'move selected': legal_moves,\n",
        "'time (s)': times\n",
        "}\n",
        "df = pd.DataFrame.from_dict(data)\n",
        "print(df)\n"
      ]
    },
    {
      "cell_type": "markdown",
      "metadata": {
        "id": "XDHTe0LcL8cn"
      },
      "source": [
        "### Move ordering\n",
        "\n",
        "Starting the search with better moves will increase the efficiency of alpha-beta pruning. Describe and implement a simple move ordering strategy. Make a table that shows how the ordering strategies influence the time it takes to make a move."
      ]
    },
    {
      "cell_type": "code",
      "execution_count": 15,
      "metadata": {
        "id": "omeYo7HyL8cn",
        "colab": {
          "base_uri": "https://localhost:8080/",
          "height": 0
        },
        "outputId": "f37c50d1-9b49-45e1-ab33-70447d4dc0d1"
      },
      "outputs": [
        {
          "output_type": "stream",
          "name": "stdout",
          "text": [
            "   number of columns  standard min max  move ordering\n",
            "0                  4          0.336823       0.336823\n",
            "1                  5          1.311106       1.311106\n",
            "2                  6          3.560985       3.560985\n",
            "3                  7          7.779842       7.779842\n",
            "4                  8         15.464889      15.464889\n"
          ]
        }
      ],
      "source": [
        "'''\n",
        "by dropping disks in the center of the board the probablity of forming a 4-disk is greater.\n",
        "1)prioritize the best move first (the center of the board)\n",
        "2)organize legal moves by the distance to the center of the board\n",
        "'''\n",
        "import pandas as pd\n",
        "def move_ordering(moves, board):\n",
        "  rows, column = board.shape\n",
        "  center = column // 2\n",
        "  return sorted(moves, key=lambda x : abs(x[1] - center))\n",
        "\n",
        "def min_max_agent_ordering(state, player=None, depth_limit=4):\n",
        "  if player is None:\n",
        "      board, mean_flag, _ = state\n",
        "      state = (board, mean_flag, player)\n",
        "\n",
        "  max_player = state[2]\n",
        "  best_action = None\n",
        "  best_value = float('-inf')\n",
        "  ordering = move_ordering(actions(state), state[0])\n",
        "  for action in ordering:\n",
        "    child_state = result_state(state, action)\n",
        "    value = min_max_value(child_state, float('-inf'), float('inf'), depth_limit - 1, max_player)\n",
        "\n",
        "    if value > best_value:\n",
        "      best_value = value\n",
        "      best_action = action\n",
        "  return best_action\n",
        "\n",
        "\n",
        "def display_results():\n",
        "  columns =[]\n",
        "  ordering = []\n",
        "  standard = []\n",
        "  trials = 10\n",
        "  for col in [4,5,6,7,8]:\n",
        "    board = empty_board((6,col))\n",
        "    state = (board, False, 1)\n",
        "\n",
        "    time_standard =[]\n",
        "    #standard min max agent\n",
        "    for _ in range(trials):\n",
        "      start = time.time()\n",
        "      move = min_max_agent(state, player=1, depth_limit=4)\n",
        "      end = time.time() - start\n",
        "      time_standard.append(end)\n",
        "\n",
        "    avg_time_standard = sum(time_standard) / len(time_standard)\n",
        "\n",
        "    #ordering min max agent\n",
        "    time_ordering = []\n",
        "    for _ in range(trials):\n",
        "      start = time.time()\n",
        "      move = min_max_agent_ordering(state, player=1, depth_limit=4)\n",
        "      end = time.time() - start\n",
        "      time_ordering.append(end)\n",
        "\n",
        "    avg_time_ordering = sum(time_ordering) / len(time_ordering)\n",
        "\n",
        "    columns.append(col)\n",
        "    standard.append(avg_time_standard)\n",
        "    ordering.append(avg_time_ordering)\n",
        "\n",
        "  data = {\n",
        "        'number of columns': columns,\n",
        "        'standard min max': standard,\n",
        "        'move ordering': standard\n",
        "    }\n",
        "  df = pd.DataFrame.from_dict(data)\n",
        "  print(df)\n",
        "display_results()\n"
      ]
    },
    {
      "cell_type": "markdown",
      "metadata": {
        "id": "n_ZJDd9nL8cn"
      },
      "source": [
        "### The first few moves\n",
        "\n",
        "Start with an empty board. This is the worst case scenario for minimax search with alpha-beta pruning since it needs solve all possible games that can be played (minus some pruning) before making the decision. What can you do?"
      ]
    },
    {
      "cell_type": "code",
      "execution_count": null,
      "metadata": {
        "id": "Ip9dbCRgL8cn"
      },
      "outputs": [],
      "source": [
        "'''\n",
        "worse-case: emtpy board\n",
        "\n",
        "-> whenteh board is empty the branching is big since it needs to account for all posiblities and min max even with alpha-beta\n",
        "    purining still needs to check all posiblities\n",
        "\n",
        "what do to:\n",
        "1) have a set of best initial moves such as moves in the center\n",
        "2) be stratigic about steps, only allow moves that will benefic the player\n",
        "3) use the best move first\n",
        "\n",
        "'''"
      ]
    },
    {
      "cell_type": "markdown",
      "metadata": {
        "id": "Uhk1YRnDL8cn"
      },
      "source": [
        "### Playtime\n",
        "\n",
        "Let the Minimax Search agent play a random agent on a small board. Analyze wins, losses and draws."
      ]
    },
    {
      "cell_type": "code",
      "execution_count": 25,
      "metadata": {
        "id": "Kx1qffv2L8co",
        "colab": {
          "base_uri": "https://localhost:8080/",
          "height": 0
        },
        "outputId": "ad00badf-3f07-45cc-8751-0bb1aaaf1eca"
      },
      "outputs": [
        {
          "output_type": "stream",
          "name": "stdout",
          "text": [
            "For 1000 games\n",
            "player 1:  won 559 times\n",
            "player -1: won 7 times\n",
            "player resulted in at tie:  434 times\n"
          ]
        }
      ],
      "source": [
        "\n",
        "\n",
        "def play_time( board_shape=(4,4), depth_limit=4):\n",
        "  board = empty_board(board_shape)\n",
        "  state = (board, False, 1)\n",
        "\n",
        "  while not terminal(state):\n",
        "    current_player = state[2]\n",
        "\n",
        "    if current_player == 1:\n",
        "      move = min_max_agent(state, player=1, depth_limit=4)\n",
        "    else:\n",
        "      move = random_player(state, player=1)\n",
        "\n",
        "    if move is None:\n",
        "      break\n",
        "\n",
        "    state = result_state(state, move)\n",
        "  return utility(state)\n",
        "\n",
        "\n",
        "games = 1000\n",
        "results = {1: 0, -1: 0, 0: 0}\n",
        "for _ in range(games):\n",
        "  winner = play_time(board_shape=(4,4), depth_limit=4)\n",
        "  results[winner]+=1\n",
        "\n",
        "print(f'For {games} games')\n",
        "print(f'player 1:  won {results[1]} times')\n",
        "print(f'player -1: won {results[-1]} times')\n",
        "print(f'player resulted in at tie:  {results[0]} times')"
      ]
    },
    {
      "cell_type": "markdown",
      "metadata": {
        "id": "LXE2i58iL8co"
      },
      "source": [
        "## Task 4: Heuristic Alpha-Beta Tree Search [3 points]\n",
        "\n",
        "### Heuristic evaluation function\n",
        "\n",
        "Define and implement a heuristic evaluation function."
      ]
    },
    {
      "cell_type": "code",
      "execution_count": 7,
      "metadata": {
        "id": "qoCQIXw_L8co"
      },
      "outputs": [],
      "source": [
        "'''\n",
        "1) make moves in the center of the board\n",
        "2) avoid that the opponent wins (identify the potential connect-4)\n",
        "3) try to add disks to places where winning is possible given the current board\n",
        "\n",
        "heuristic function: get a score of of chances of winning : high (more likely to win ex: 3 of player's disk) to low (least likely to win or thread ex: opponent 3 disks)\n",
        "'''\n",
        "\n",
        "def get_score(window_space, player, connect=4):\n",
        "  score= 0\n",
        "\n",
        "  #advanatege\n",
        "  # 4 in a row\n",
        "  if window_space.count(player) == connect:\n",
        "    return 100\n",
        "  # 3 in a row but space for one\n",
        "  elif window_space.count(player) == connect - 1 and window_space.count(0) == 1:\n",
        "    score+=70\n",
        "  #2 in a row but space for two\n",
        "  elif window_space.count(player) == connect - 2 and window_space.count(0) == 2:\n",
        "    score+=50\n",
        "\n",
        "\n",
        "  #opponent thread\n",
        "  if window_space.count(-player) == connect - 1 and window_space.count(0) == 1:\n",
        "    score-=55\n",
        "  elif window_space.count(-player) == connect - 2 and window_space.count(0) == 2:\n",
        "    score-=25\n",
        "  return score\n",
        "\n",
        "def heuristic(state, connect=4):\n",
        "\n",
        "  board, mean_flag, player = state\n",
        "  rows, columns = board.shape\n",
        "  score = 0\n",
        "\n",
        "  #advantage moves in the center\n",
        "  center = columns // 2\n",
        "  center_pos = list(board[:, center])\n",
        "  center_player_disk = center_pos.count(player)\n",
        "  score += center_player_disk * 2\n",
        "\n",
        "  #horizontal\n",
        "  for r in range(rows):\n",
        "    for c in range(columns - connect + 1):\n",
        "      window_space = list(board[r, c : c+ connect])\n",
        "      score += get_score(window_space, player)\n",
        "  #vertical\n",
        "  for c in range(columns):\n",
        "    for r in range(rows - connect + 1):\n",
        "      window_space = list(board[r : r+ connect, c])\n",
        "      score += get_score(window_space, player)\n",
        "  #diagonal \\\n",
        "  for r in range(connect - 1, rows):\n",
        "    for c in range(columns - connect + 1):\n",
        "      window_space = list([board[r - i, c + i] for i in range(connect)])\n",
        "  #diagonal /\n",
        "  for r in range(rows - connect + 1):\n",
        "    for c in range(columns - connect + 1):\n",
        "      window_space = list([board[r + i, c + i] for i in range(connect)])\n",
        "  score = max(min(score, 100), -100)\n",
        "  return score\n"
      ]
    },
    {
      "cell_type": "markdown",
      "metadata": {
        "id": "QbIviqR6L8co"
      },
      "source": [
        "### Cutting off search\n",
        "\n",
        "Modify your Minimax Search with Alpha-Beta Pruning to cut off search at a specified depth and use the heuristic evaluation function. Experiment with different cutoff values."
      ]
    },
    {
      "cell_type": "code",
      "execution_count": 10,
      "metadata": {
        "id": "IhKCwDTPL8co",
        "colab": {
          "base_uri": "https://localhost:8080/",
          "height": 0
        },
        "outputId": "88538ca8-765b-4bcf-90e4-6c7a52eba345"
      },
      "outputs": [
        {
          "output_type": "stream",
          "name": "stdout",
          "text": [
            "    (r,c)  move selected  time (s)\n",
            "0  (6, 4)  (standard, 0)  0.641659\n",
            "1  (6, 5)  (standard, 0)  1.170766\n",
            "2  (6, 6)  (standard, 0)  3.882929\n",
            "3  (6, 7)  (standard, 0)  0.013358\n",
            "4  (6, 8)  (standard, 0)  0.018073\n"
          ]
        }
      ],
      "source": [
        "import time\n",
        "\n",
        "def min_max_value_heuristic(state, alpha, beta, depth, max_player):\n",
        "  #alpha: best exlpored option for the minimizer\n",
        "  #beta: best explored option for the maximizer\n",
        "  #depth: search depth\n",
        "  #max_player: original player maximizer\n",
        "  board, mean_flag, player = state\n",
        "\n",
        "  #if the game is over of depth is 0\n",
        "  if terminal(state) or depth == 0:\n",
        "    return heuristic(state)\n",
        "\n",
        "  #maximizing player (original player)\n",
        "  if state[2] == max_player:\n",
        "    value = float('-inf')\n",
        "    for action in actions(state):\n",
        "      child_state = result_state(state, action)\n",
        "      value = max(value, min_max_value_heuristic(child_state, alpha, beta, depth - 1, max_player))\n",
        "      alpha = max(alpha, value)\n",
        "      if alpha >= beta:\n",
        "        break\n",
        "    return value\n",
        "  #minimzing player (opponent player)\n",
        "  else:\n",
        "    value = float('inf')\n",
        "    for action in actions(state):\n",
        "      child_state = result_state(state, action)\n",
        "      value = min(value, min_max_value_heuristic(child_state, alpha, beta, depth - 1, max_player))\n",
        "      alpha = min(beta, value)\n",
        "      if beta <= alpha:\n",
        "        break\n",
        "    return value\n",
        "def min_max_agent_heuristic(state, player=None, depth_limit=4):\n",
        "  if player is None:\n",
        "    board, mean_flag, _ = state\n",
        "    state = (board, mean_flag, player)\n",
        "\n",
        "  max_player = state[2]\n",
        "  best_action = None\n",
        "  best_value = float('-inf')\n",
        "\n",
        "  for action in actions(state):\n",
        "    child_state = result_state(state, action)\n",
        "    value = min_max_value_heuristic(child_state, float('-inf'), float('inf'), depth_limit - 1, max_player)\n",
        "\n",
        "    if value > best_value:\n",
        "      best_value = value\n",
        "      best_action = action\n",
        "  return best_action\n",
        "def play_time_heuristic( board_shape=(4,4), depth_limit=4):\n",
        "  board = empty_board(board_shape)\n",
        "  state = (board, False, 1)\n",
        "\n",
        "  while not terminal(state):\n",
        "    current_player = state[2]\n",
        "\n",
        "    if current_player == 1:\n",
        "      move = min_max_agent_heuristic(state, player=1, depth_limit=4)\n",
        "    else:\n",
        "      move = random_player(state, player=1)\n",
        "\n",
        "    if move is None:\n",
        "      break\n",
        "\n",
        "    state = result_state(state, move)\n",
        "  return utility(state)\n",
        "\n",
        "\n",
        "games = 10\n",
        "results = {1: 0, -1: 0, 0: 0}\n",
        "\n",
        "depths = []\n",
        "total_time = 0\n",
        "for depth in [2,3,4,5,6]:\n",
        "  for _ in range(games):\n",
        "    start = time.time()\n",
        "\n",
        "    winner = play_time_heuristic(board_shape=(4,4), depth_limit=depth)\n",
        "    results[winner]+=1\n",
        "    total_time += time.time() - start\n",
        "\n",
        "\n",
        "    depths.append(depth)\n",
        "\n",
        "\n",
        "\n",
        "data = {\n",
        "    'depth': depths,\n",
        "    'wins': results[1],\n",
        "    'losses': results[-1],\n",
        "    'ties': results[0],\n",
        "    'average time (s)': total_time / games\n",
        "}\n",
        "delattrf = pd.DataFrame.from_dict(data)\n",
        "print(df)\n",
        "\n",
        "\n",
        "\n"
      ]
    },
    {
      "cell_type": "markdown",
      "metadata": {
        "id": "NBpYGvxBL8co"
      },
      "source": [
        "Experiment with the same manually created boards as above to check if the agent spots winning opportunities."
      ]
    },
    {
      "cell_type": "code",
      "execution_count": 16,
      "metadata": {
        "id": "KHqb_K5YL8co",
        "colab": {
          "base_uri": "https://localhost:8080/",
          "height": 0
        },
        "outputId": "a071a106-e386-40d8-be70-40b1d0e0580c"
      },
      "outputs": [
        {
          "output_type": "stream",
          "name": "stdout",
          "text": [
            "    (r,c)  move selected  time (s)\n",
            "0  (6, 4)  (standard, 2)  0.361115\n",
            "1  (6, 5)  (standard, 2)  0.792177\n",
            "2  (6, 6)  (standard, 2)  2.021097\n",
            "3  (6, 7)  (standard, 0)  0.005434\n",
            "4  (6, 8)  (standard, 0)  0.007448\n"
          ]
        }
      ],
      "source": [
        "times = []\n",
        "legal_moves =[]\n",
        "diamentions =[]\n",
        "for c in [4,5,6,7,8]:\n",
        "  board = winning_board(6, c, player=1)\n",
        "  state = (board, False, 1)\n",
        "  start = time.time()\n",
        "  move = min_max_agent_heuristic(state, player=1, depth_limit=4)\n",
        "  end = time.time() - start\n",
        "\n",
        "  times.append(end)\n",
        "  legal_moves.append(move)\n",
        "  diamentions.append((6,c))\n",
        "\n",
        "data = {\n",
        "  '(r,c)': diamentions,\n",
        "  'move selected': legal_moves,\n",
        "  'time (s)': times\n",
        "}\n",
        "df = pd.DataFrame.from_dict(data)\n",
        "print(df)"
      ]
    },
    {
      "cell_type": "markdown",
      "metadata": {
        "id": "ZaBC7W7VL8cp"
      },
      "source": [
        "How long does it take to make a move? Start with a smaller board with 4 columns and make the board larger by adding columns."
      ]
    },
    {
      "cell_type": "code",
      "execution_count": 17,
      "metadata": {
        "id": "yb303vWbL8cp",
        "colab": {
          "base_uri": "https://localhost:8080/",
          "height": 0
        },
        "outputId": "7b208843-cb6a-4966-aa87-aad3a8447cb2"
      },
      "outputs": [
        {
          "output_type": "stream",
          "name": "stdout",
          "text": [
            "     (r,c)  move selected   time (s)\n",
            "0   (6, 4)  (standard, 4)  10.051220\n",
            "1   (6, 5)  (standard, 4)   8.868629\n",
            "2   (6, 6)  (standard, 4)  10.081222\n",
            "3   (6, 7)  (standard, 4)  10.178112\n",
            "4   (6, 8)  (standard, 4)   9.615595\n",
            "5   (6, 9)  (standard, 4)   9.251347\n",
            "6  (6, 10)  (standard, 4)  10.176538\n"
          ]
        }
      ],
      "source": [
        "times = []\n",
        "legal_moves =[]\n",
        "diamentions =[]\n",
        "for c in [4,5,6,7,8,9,10]:\n",
        "  board = empty_board((6,col))\n",
        "  state = (board, False, 1)\n",
        "  start = time.time()\n",
        "  move = min_max_agent_heuristic(state, player=1, depth_limit=4)\n",
        "  end = time.time() - start\n",
        "\n",
        "  times.append(end)\n",
        "  legal_moves.append(move)\n",
        "  diamentions.append((6,c))\n",
        "\n",
        "data = {\n",
        "  '(r,c)': diamentions,\n",
        "  'move selected': legal_moves,\n",
        "  'time (s)': times\n",
        "}\n",
        "df = pd.DataFrame.from_dict(data)\n",
        "print(df)"
      ]
    },
    {
      "cell_type": "markdown",
      "metadata": {
        "id": "bokyrXrkL8cp"
      },
      "source": [
        "### Playtime\n",
        "\n",
        "Let two heuristic search agents (different cutoff depth, different heuristic evaluation function) compete against each other on a reasonably sized board. Since there is no randomness, you only need to let them play once."
      ]
    },
    {
      "cell_type": "code",
      "execution_count": 19,
      "metadata": {
        "id": "hUILjLbdL8cp",
        "colab": {
          "base_uri": "https://localhost:8080/",
          "height": 0
        },
        "outputId": "bbaaacee-abf5-42e3-cf0d-dd263e81a7fd"
      },
      "outputs": [
        {
          "output_type": "stream",
          "name": "stdout",
          "text": [
            "   number of columns     game 1    game 2\n",
            "0                  4   0.334993  0.233907\n",
            "1                  5   0.846688  0.860843\n",
            "2                  6   2.349667  2.360590\n",
            "3                  7   4.910870  5.012482\n",
            "4                  8  10.019488  9.800241\n"
          ]
        }
      ],
      "source": [
        "def display_results():\n",
        "  columns =[]\n",
        "  game_1 = []\n",
        "  game_2 = []\n",
        "  trials = 10\n",
        "  for col in [4,5,6,7,8]:\n",
        "    board = empty_board((6,col))\n",
        "    state = (board, False, 1)\n",
        "\n",
        "    time_game_1 =[]\n",
        "    for _ in range(trials):\n",
        "      start = time.time()\n",
        "      move = min_max_agent_heuristic(state, player=1, depth_limit=4)\n",
        "      end = time.time() - start\n",
        "      time_game_1.append(end)\n",
        "\n",
        "    avg_time_1 = sum(time_game_1) / len(time_game_1)\n",
        "\n",
        "    #ordering min max agent\n",
        "    time_game_2 = []\n",
        "    for _ in range(trials):\n",
        "      start = time.time()\n",
        "      move = min_max_agent_heuristic(state, player=1, depth_limit=4)\n",
        "      end = time.time() - start\n",
        "      time_game_2.append(end)\n",
        "\n",
        "    avg_time_2 = sum(time_game_2) / len(time_game_2)\n",
        "\n",
        "    columns.append(col)\n",
        "    game_1.append(avg_time_1)\n",
        "    game_2.append(avg_time_2)\n",
        "\n",
        "  data = {\n",
        "        'number of columns': columns,\n",
        "        'game 1': game_1,\n",
        "        'game 2': game_2\n",
        "    }\n",
        "  df = pd.DataFrame.from_dict(data)\n",
        "  print(df)\n",
        "display_results()"
      ]
    },
    {
      "cell_type": "markdown",
      "metadata": {
        "id": "UFhDH9M_L8cp"
      },
      "source": [
        "---\n",
        "Assignment adapted from [Michael Hahsler](https://github.com/mhahsler/CS7320-AI) under [CC BY-SA](https://creativecommons.org/licenses/by-sa/4.0/deed.en) license.\n"
      ]
    }
  ],
  "metadata": {
    "kernelspec": {
      "display_name": "Python 3 (ipykernel)",
      "language": "python",
      "name": "python3"
    },
    "language_info": {
      "codemirror_mode": {
        "name": "ipython",
        "version": 3
      },
      "file_extension": ".py",
      "mimetype": "text/x-python",
      "name": "python",
      "nbconvert_exporter": "python",
      "pygments_lexer": "ipython3",
      "version": "3.9.5"
    },
    "colab": {
      "provenance": []
    }
  },
  "nbformat": 4,
  "nbformat_minor": 0
}
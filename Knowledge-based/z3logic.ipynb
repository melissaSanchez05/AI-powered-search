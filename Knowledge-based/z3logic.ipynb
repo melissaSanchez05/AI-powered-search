{
  "cells": [
    {
      "cell_type": "markdown",
      "metadata": {
        "id": "-rnkCP9R2o_Z"
      },
      "source": [
        "# Introduction\n",
        "\n",
        "Name: Melissa Sanchez\n",
        "\n",
        "I understand that my submission needs to be my own work: YES\n",
        "\n",
        "I understand that ChatGPT / Copilot / other AI tools are not allowed: MS\n",
        "\n",
        "Total Points: **75**\n",
        "\n",
        "Complete this notebook and submit it (save/print as pdf). Make sure all output is correct in the pdf before submitting (it sometimes gets cut off). The notebook needs to be a complete project report with your implementation, documentation including a short discussion of how your implementation works and your design choices, and experimental results (e.g., tables and charts with simulation results) with a short discussion of what they mean. Use the provided notebook cells and insert additional code and markdown cells as needed."
      ]
    },
    {
      "cell_type": "markdown",
      "metadata": {
        "id": "wdtvm8lB2o_b"
      },
      "source": [
        "## Z3 and Z3py resources\n",
        "\n",
        "For this problem you will be solving constraint satisfaction and logic problems using the Z3 SMT solver via the z3py python library.\n",
        "\n",
        "The demo code using z3py we went over in class is here: [link](https://drive.google.com/drive/folders/16HQXiwdcaman1IpC7H6vSJ71QQQ-aL2z?usp=sharing)\n",
        "\n",
        "Online help for z3py is here: [link](https://ericpony.github.io/z3py-tutorial/guide-examples.htm)"
      ]
    },
    {
      "cell_type": "markdown",
      "metadata": {
        "id": "F6mYrFaM2o_b"
      },
      "source": [
        "## Installation\n",
        "\n",
        "We first install to get the z3solver library using pip and test that works."
      ]
    },
    {
      "cell_type": "code",
      "source": [
        "!pip install z3-solver"
      ],
      "metadata": {
        "id": "EoLs1AWw38Tj",
        "outputId": "00d210f1-ced4-4d5a-a067-de80cc6299b7",
        "colab": {
          "base_uri": "https://localhost:8080/",
          "height": 0
        }
      },
      "execution_count": 2,
      "outputs": [
        {
          "output_type": "stream",
          "name": "stdout",
          "text": [
            "Collecting z3-solver\n",
            "  Downloading z3_solver-4.14.1.0-py3-none-manylinux_2_17_x86_64.manylinux2014_x86_64.whl.metadata (602 bytes)\n",
            "Downloading z3_solver-4.14.1.0-py3-none-manylinux_2_17_x86_64.manylinux2014_x86_64.whl (29.5 MB)\n",
            "\u001b[2K   \u001b[90m━━━━━━━━━━━━━━━━━━━━━━━━━━━━━━━━━━━━━━━━\u001b[0m \u001b[32m29.5/29.5 MB\u001b[0m \u001b[31m18.2 MB/s\u001b[0m eta \u001b[36m0:00:00\u001b[0m\n",
            "\u001b[?25hInstalling collected packages: z3-solver\n",
            "Successfully installed z3-solver-4.14.1.0\n"
          ]
        }
      ]
    },
    {
      "cell_type": "code",
      "execution_count": 2,
      "metadata": {
        "id": "xnQTztNX2o_c",
        "outputId": "88113957-5983-4a9a-970e-b1953c1bbcd9",
        "colab": {
          "base_uri": "https://localhost:8080/",
          "height": 0
        }
      },
      "outputs": [
        {
          "output_type": "stream",
          "name": "stdout",
          "text": [
            "[y = 0, x = 7]\n"
          ]
        }
      ],
      "source": [
        "# Run the first example from the z3py guide as a test: https://ericpony.github.io/z3py-tutorial/guide-examples.htm\n",
        "from z3 import *\n",
        "\n",
        "x = Int('x')\n",
        "y = Int('y')\n",
        "solve(x > 2, y < 10, x + 2*y == 7)"
      ]
    },
    {
      "cell_type": "markdown",
      "source": [
        "# Sudoku as a constraint satisfaction problem (CSP)\n",
        "\n",
        "Sudoku is a popular number-placement puzzle that originated in France in the end of the 19th century.  Modern Sudoku was likely invented by Howard Garns from Connersville, Indiana and was first published in 1979 under the name *Number Place*. The objective of the puzzle is to place numbers 1-9 on a 9$\\times$9 grid, such that each number occurs only once in every row, every column, and every of the nine 3$\\times$3 sub-grids that compose the main grid.\n",
        "Sudoku puzzles are grids that have been partially occupied with numbers. The task is then to occupy the remaining fields in such a way that the constraints on rows, columns, and sub-grids are satisfied.\n",
        "For more information about Sudoku refer to its Wikipedia page at http://en.wikipedia.org/wiki/Sudoku.\n",
        "\n",
        "This problem has two parts. In the first part, you will write the boolean constraints in mathematical notation for solving a Sudoku puzzle. In the second part, you will write code and invoke the Z3 solver to solve the Sudoku instance and answer various questions about the solution.\n",
        "\n",
        "## Part 1 (Constraints)\n",
        "In text, define and write constraints over **boolean** variables corresponding to each number being in each cell. For example, you may use $X_{i,j}^k$ as teh variable that is true if and only if the number $k$ is in row $i$ and column $j$ (the variable is true if $k$ is in cell $(i, j)$ and false otherwise). Now write the following boolean constaints over these variables:\n",
        "\n",
        "* Write the boolean formula for the constraints that the number 5 can occur at most once in the first row. **(3 point)**\n",
        "* Write the boolean formula for the constraints that the number 6 can occur at most once in the first column. **(3 point)**\n",
        "* Write the boolean formula for the constraints that the number 9 can occur at most once in the top left 3$\\times$3 sub-grid. **(4 point)**"
      ],
      "metadata": {
        "id": "9J3lpQvP52jm"
      }
    },
    {
      "cell_type": "markdown",
      "source": [
        "Solution:"
      ],
      "metadata": {
        "id": "ju3Q1ewW7aeu"
      }
    },
    {
      "cell_type": "markdown",
      "source": [
        "1) 0 <= j < j' <= 8     ¬( X(k=5 ,i=0 ,j) 𝝠  X(k=5 ,i=0 ,j'))\n",
        "\n",
        "2) 0 <=i < i' <= 8      ¬( X(k=5 ,i ,j=0) 𝝠  X(k=5 ,i' ,j=0))\n",
        "\n",
        "3) 0 <= i, i' <= 2, 0 <= j, j' <= 2, (i,j) != (i',j')      ¬( X(k=9 ,i ,j) 𝝠 X(k=9 ,i' ,j'))\n"
      ],
      "metadata": {
        "id": "iFptkI3f5S0I"
      }
    },
    {
      "cell_type": "markdown",
      "source": [
        "## Part 2 (Coding)\n",
        "\n",
        "Encode the above constraints and all the other ones as a CSP using z3py and solve the Sudoku instance given in the figure below. **Use only boolean variables** and do not use the **Distinct** function.\n",
        "\n",
        "* Provide the code to solve that solves the given problem instance using z3py and only boolean variables. The code should output a reasonable visualization of the solution, for example printed in text. **(10 points)**\n",
        "\n",
        "<img src=\"https://raw.githubusercontent.com/stanleybak/CS7320-AI/master/Knowledge-based/sudoku1.jpg\" width=\"400\"/>\n",
        "\n"
      ],
      "metadata": {
        "id": "y7kArKLH7eOR"
      }
    },
    {
      "cell_type": "code",
      "source": [
        "# z3py code to solve above Sudoku goes here. Do not use Int(*), only Bool(*)\n",
        "from z3 import *\n",
        "\n",
        "\n",
        "s = Solver()\n",
        "\n",
        "#k=number,i=row,j=column\n",
        "board = [[[ Bool(\"X,%d,%d,%d\" % (k+1, i, j)) for k in range(9) ]\n",
        "       for j in range(9)]\n",
        "     for i in range(9)]\n",
        "\n",
        "#constraint: one digit per cell\n",
        "for i in range(9):\n",
        "    for j in range(9):\n",
        "        s.add(Or([ board[k][i][j] for k in range(9) ]))\n",
        "\n",
        "\n",
        "        #only one disig can be in the cell\n",
        "        #1<=n<m<=9\n",
        "        for n in range(9):\n",
        "          for m in range(n+1,9):\n",
        "            s.add(Not(And(board[n][i][j], board[m][i][j])))\n",
        "\n",
        "#constraint: non-repeating numbers in each row\n",
        "for i in range(9):\n",
        "  for k in range(9):\n",
        "    for j in range(9):\n",
        "      for d in range(j+1,9):\n",
        "        s.add(Not(And(board[k][i][j],board[k][i][d])))\n",
        "\n",
        "#constraint: non-repeating numbers in each column\n",
        "for j in range(9):\n",
        "  for k in range(9):\n",
        "    for i in range(9):\n",
        "      for d in range(i+1,9):\n",
        "        s.add(Not(And(board[k][i][j],board[k][d][j])))\n",
        "\n",
        "#constraint: non-repeating numbers in each 3x3 subgrid\n",
        "for block_i in range(3):\n",
        "  for block_j in range(3):\n",
        "    #bread down into 6 sections 3 by 3\n",
        "    # 00 01 02\n",
        "    # 10 11 12 -------> first block 00 ----> 00 01 02\n",
        "    # 20 21 22                               10 11 12\n",
        "    #                                        20 21 22\n",
        "    #get all coordinages of each section\n",
        "    cells = [(block_i * 3 + i, block_j * 3 + j) for i in range(3) for j in range(3)]\n",
        "    for k in range(9):\n",
        "      for idx in range(len(cells)):\n",
        "                for jdx in range(idx+1, len(cells)):\n",
        "                  #ensure non-repeating\n",
        "                    i1, j1 = cells[idx]\n",
        "                    i2, j2 = cells[jdx]\n",
        "                    s.add(Not(And(board[k][i1][j1], board[k][i2][j2])))\n",
        "\n",
        "\n",
        "\n"
      ],
      "metadata": {
        "id": "UghnVSTS-kJi"
      },
      "execution_count": 1,
      "outputs": []
    },
    {
      "cell_type": "markdown",
      "source": [
        "### Uniqueness\n",
        "Is your solution unique? Prove it with a Z3py solver or provide a second solution. **(5 points)**"
      ],
      "metadata": {
        "id": "FIkg9eI38VMG"
      }
    },
    {
      "cell_type": "code",
      "source": [
        "sudoku_board = [[2, 0, 0, 0, 0, 0, 0, 0, 0],\n",
        "                [0, 0, 0, 7, 0, 0, 0, 0, 0],\n",
        "                [0, 0, 0, 0, 0, 0, 0, 6, 0],\n",
        "                [0, 0, 0, 0, 0, 0, 3, 0, 0],\n",
        "                [0, 0, 0, 0, 0, 0, 0, 0, 0],\n",
        "                [0, 4, 0, 0, 0, 0, 0, 0, 6],\n",
        "                [0, 0, 0, 0, 0, 2, 0, 0, 0],\n",
        "                [0, 0, 0, 0, 0, 9, 0, 0, 0],\n",
        "                [0, 0, 5, 0, 8, 0, 0, 0, 0]]\n",
        "#sudoku_board = [[0 for j in range(9)] for i in range(9)]\n",
        "#add the pre-existing values of the sudoku board as a constraint\n",
        "for i in range(9):\n",
        "    for j in range(9):\n",
        "        if sudoku_board[i][j] != 0:\n",
        "           k = sudoku_board[i][j]\n",
        "           s.add(board[k -1][i][j])\n",
        "\n",
        "#check for a solution\n",
        "if s.check() == sat:\n",
        "  m = s.model()\n",
        "  #create another sudoku board for solution visualization\n",
        "  sol = [[0 for j in range(9)] for i in range(9)]\n",
        "\n",
        "  #get the 'solution' to the sudoku\n",
        "  for i in range(9):\n",
        "        for j in range(9):\n",
        "            for k in range(9):\n",
        "                if m.evaluate(board[k][i][j]):\n",
        "                    sol[i][j] = k + 1\n",
        "  #print the solution\n",
        "\n",
        "  for i in range(9):\n",
        "      if i % 3 == 0 and i != 0:\n",
        "          print(\"-\" * 21)  #divive each 3x3 subgrid\n",
        "      row = \"\"\n",
        "      for j in range(9):\n",
        "          if j % 3 == 0 and j != 0:\n",
        "              row += \" | \" #divive each 3x3 subgrid\n",
        "          row += \" \" + str(sol[i][j])\n",
        "      print(row)\n",
        "\n",
        "else:\n",
        "  print(\"unsat\")\n"
      ],
      "metadata": {
        "id": "-ZacX6gz-4os",
        "colab": {
          "base_uri": "https://localhost:8080/",
          "height": 0
        },
        "outputId": "ec18e476-4222-42aa-a61b-02a457b732b7"
      },
      "execution_count": 5,
      "outputs": [
        {
          "output_type": "stream",
          "name": "stdout",
          "text": [
            " 2 8 1 |  3 9 6 |  7 4 5\n",
            " 6 5 4 |  7 2 8 |  1 3 9\n",
            " 3 9 7 |  5 4 1 |  8 6 2\n",
            "---------------------\n",
            " 5 2 6 |  9 1 4 |  3 7 8\n",
            " 1 3 8 |  2 6 7 |  5 9 4\n",
            " 7 4 9 |  8 3 5 |  2 1 6\n",
            "---------------------\n",
            " 4 6 3 |  1 5 2 |  9 8 7\n",
            " 8 1 2 |  4 7 9 |  6 5 3\n",
            " 9 7 5 |  6 8 3 |  4 2 1\n"
          ]
        }
      ]
    },
    {
      "cell_type": "markdown",
      "source": [
        "### More Uniqueness\n",
        "If you delete the 1 in the top left box of the Sudoku problem above, how many unique solutions are there? Hint: should be fewer than 5000. **(5 points)**"
      ],
      "metadata": {
        "id": "Z6a18s5x-5Hw"
      }
    },
    {
      "cell_type": "code",
      "source": [
        "sudoku_board = [[2, 3, 7, 1, 9, 4, 8, 5, 6],\n",
        "                [4, 0, 6, 7, 2, 0, 0, 0, 0],\n",
        "                [5, 8, 9, 0, 4, 0, 0, 6, 0],\n",
        "                [0, 0, 0, 0, 5, 0, 3, 0, 0],\n",
        "                [0, 0, 0, 0, 3, 0, 0, 0, 0],\n",
        "                [0, 4, 0, 0, 7, 0, 0, 0, 6],\n",
        "                [0, 0, 0, 0, 6, 2, 0, 0, 0],\n",
        "                [0, 0, 0, 0, 1, 9, 0, 0, 0],\n",
        "                [0, 0, 5, 0, 8, 0, 0, 0, 0]]\n",
        "\n",
        "solution_count = 0\n",
        "solutions = []\n",
        "\n",
        "while s.check() == sat:\n",
        "  solution_count += 1\n",
        "  m = s.model()\n",
        "\n",
        "  sol = [[0 for _ in range(9)] for _ in range(9)]\n",
        "  block_sol= []\n",
        "  for i in range(9):\n",
        "      for j in range(9):\n",
        "          for k in range(9):\n",
        "              if m.evaluate(board[k][i][j]):\n",
        "                  sol[i][j] = d + 1\n",
        "                  # To block this solution, note the digit chosen.\n",
        "                  block_sol.append(board[k][i][j])\n",
        "                  break\n",
        "\n",
        "  #print solution.\n",
        "  # for row in sol:\n",
        "  #     print(row)\n",
        "  # print()\n",
        "\n",
        "  #block this solution from appearing again\n",
        "  s.add(Not(And(block_sol)))\n",
        "print(\"Unique solutions:\", solution_count)"
      ],
      "metadata": {
        "id": "5_2fNgND_CB4",
        "colab": {
          "base_uri": "https://localhost:8080/",
          "height": 0
        },
        "outputId": "432e9358-0dad-41de-dedd-7ffb22d61cc0"
      },
      "execution_count": 2,
      "outputs": [
        {
          "output_type": "stream",
          "name": "stdout",
          "text": [
            "Unique solutions: 4452\n"
          ]
        }
      ]
    },
    {
      "cell_type": "markdown",
      "source": [
        "# Miracle Sudoku\n",
        "\n",
        "Using z3py and only boolean variables, solve the Miracle Sudoku ([spoiler](https://www.youtube.com/watch?v=yKf9aUIxdb4)).\n",
        "In this puzzle normal Sudoku rules apply in addition to the following rules:\n",
        "* Any two cells separated by a knight's move from chess (moving forward two boxes and over one, in any direction) cannot contain the same digit (see image below).\n",
        "* Any two cells separated by a king's move from chess (one box in any direction including diagonals) cannot contain the same digit.\n",
        "* Any two orthogonally adjacent (up, down, left, or right) cells cannot contain consecutive digits."
      ],
      "metadata": {
        "id": "6nF9g7Ca_SJ1"
      }
    },
    {
      "cell_type": "markdown",
      "source": [
        "### Knight's move constraint image\n",
        "<img src=\"https://raw.githubusercontent.com/stanleybak/CS7320-AI/master/Knowledge-based/knights.jpg\" width=\"400\"/>\n",
        "\n",
        "The knight's move constraint would mean the yellow boxes cannot contain a 1.\n"
      ],
      "metadata": {
        "id": "wwjCVYCiAKXq"
      }
    },
    {
      "cell_type": "markdown",
      "source": [
        "## Miracle Sudoku Starting Information\n",
        "Provide the code to solve the puzzle given below. The code should output a reasonable visualization of the solution, for example using text. **(10 points)**\n",
        "\n",
        "<img src=\"https://raw.githubusercontent.com/stanleybak/CS7320-AI/master/Knowledge-based/miracle.jpg\" width=\"400\"/>"
      ],
      "metadata": {
        "id": "S9P6BThtAMv3"
      }
    },
    {
      "cell_type": "code",
      "source": [
        "# Solution code for Miracle Sudoku using z3py\n",
        "from z3 import *\n",
        "s = Solver()\n",
        "\n",
        "#k=number,i=row,j=column\n",
        "board = [[[ Bool(\"X,%d,%d,%d\" % (k+1, i, j)) for k in range(9) ]\n",
        "       for j in range(9)]\n",
        "     for i in range(9)]\n",
        "\n",
        "#regular sodoku rules\n",
        "#constraint: one digit per cell\n",
        "for i in range(9):\n",
        "    for j in range(9):\n",
        "        s.add(Or([ board[k][i][j] for k in range(9) ]))\n",
        "\n",
        "\n",
        "        #only one disig can be in the cell\n",
        "        #1<=n<m<=9\n",
        "        for n in range(9):\n",
        "          for m in range(n+1,9):\n",
        "            s.add(Not(And(board[n][i][j], board[m][i][j])))\n",
        "\n",
        "#constraint: non-repeating numbers in each row\n",
        "for i in range(9):\n",
        "  for k in range(9):\n",
        "    for j in range(9):\n",
        "      for d in range(j+1,9):\n",
        "        s.add(Not(And(board[k][i][j],board[k][i][d])))\n",
        "\n",
        "#constraint: non-repeating numbers in each column\n",
        "for j in range(9):\n",
        "  for k in range(9):\n",
        "    for i in range(9):\n",
        "      for d in range(i+1,9):\n",
        "        s.add(Not(And(board[k][i][j],board[k][d][j])))\n",
        "\n",
        "#constraint: non-repeating numbers in each 3x3 subgrid\n",
        "for block_i in range(3):\n",
        "  for block_j in range(3):\n",
        "    #bread down into 6 sections 3 by 3\n",
        "    # 00 01 02\n",
        "    # 10 11 12 -------> first block 00 ----> 00 01 02\n",
        "    # 20 21 22                               10 11 12\n",
        "    #                                        20 21 22\n",
        "    #get all coordinages of each section\n",
        "    cells = [(block_i * 3 + i, block_j * 3 + j) for i in range(3) for j in range(3)]\n",
        "    for k in range(9):\n",
        "      for idx in range(len(cells)):\n",
        "                for jdx in range(idx+1, len(cells)):\n",
        "                  #ensure non-repeating\n",
        "                    i1, j1 = cells[idx]\n",
        "                    i2, j2 = cells[jdx]\n",
        "                    s.add(Not(And(board[k][i1][j1], board[k][i2][j2])))\n",
        "#king's move\n",
        "#(di,dj in {-1,0,1} except (0,0)).\n",
        "for i in range(9):\n",
        "    for j in range(9):\n",
        "        for di in range(-1, 2):\n",
        "            for dj in range(-1, 2):\n",
        "                if di == 0 and dj == 0:\n",
        "                    continue\n",
        "                ni, nj = i + di, j + dj\n",
        "                if 0 <= ni < 9 and 0 <= nj < 9:\n",
        "                    for k in range(9):\n",
        "                        s.add(Not(And(board[k][i][j], board[k][ni][nj])))\n",
        "\n",
        "#knight's move\n",
        "#|di|*|dj| == 2.\n",
        "for i in range(9):\n",
        "    for j in range(9):\n",
        "        for di in range(-2, 3):  # di -> {-2, -1, 0, 1, 2}\n",
        "            for dj in range(-2, 3):  # dj -> {-2, -1, 0, 1, 2}\n",
        "                if abs(di) * abs(dj) == 2:\n",
        "                    ni, nj = i + di, j + dj\n",
        "                    if 0 <= ni < 9 and 0 <= nj < 9:\n",
        "                        for k in range(9):\n",
        "                            s.add(Not(And(board[k][i][j], board[k][ni][nj])))\n",
        "\n",
        "#orthogonally adjacent\n",
        "for i in range(9):\n",
        "    for j in range(9):\n",
        "        for (di, dj) in [(-1, 0), (1, 0), (0, -1), (0, 1)]:\n",
        "            ni, nj = i + di, j + dj\n",
        "            if 0 <= ni < 9 and 0 <= nj < 9:\n",
        "                #for any digit is not possible to have processors or predessesors\n",
        "                for k in range(9):\n",
        "                    if k > 0:\n",
        "                        s.add(Not(And(board[k][i][j], board[k-1][ni][nj])))\n",
        "                    if k < 8:\n",
        "                        s.add(Not(And(board[k][i][j], board[k+1][ni][nj])))\n",
        "\n",
        "sudoku_board = [[0, 0, 0, 0, 0, 0, 0, 0, 0],\n",
        "                [0, 0, 0, 0, 0, 0, 0, 0, 0],\n",
        "                [0, 0, 0, 0, 0, 0, 0, 0, 0],\n",
        "                [0, 0, 0, 0, 0, 0, 0, 0, 0],\n",
        "                [0, 0, 1, 0, 0, 0, 0, 0, 0],\n",
        "                [0, 0, 0, 0, 0, 0, 2, 0, 0],\n",
        "                [0, 0, 0, 0, 0, 0, 0, 0, 0],\n",
        "                [0, 0, 0, 0, 0, 0, 0, 0, 0],\n",
        "                [0, 0, 0, 0, 0, 0, 0, 0, 0]]\n",
        "#add the board pre-existing entries\n",
        "for i in range(9):\n",
        "    for j in range(9):\n",
        "        if sudoku_board[i][j] != 0:\n",
        "            k = sudoku_board[i][j]\n",
        "            s.add(board[k -1][i][j])\n",
        "\n",
        "if s.check() == sat:\n",
        "    m = s.model()\n",
        "\n",
        "    sol = [[0 for _ in range(9)] for _ in range(9)]\n",
        "\n",
        "    for i in range(9):\n",
        "        for j in range(9):\n",
        "            for k in range(9):\n",
        "                if m.evaluate(board[k][i][j]):\n",
        "                    sol[i][j] = k + 1\n",
        "                    break\n",
        "\n",
        "\n",
        "    for i in range(9):\n",
        "        if i % 3 == 0 and i != 0:\n",
        "            print(\"-\" * 25)\n",
        "        row_str = \"\"\n",
        "        for j in range(9):\n",
        "            if j % 3 == 0 and j != 0:\n",
        "                row_str += \" |\"\n",
        "            row_str += \" \" + str(sol[i][j])\n",
        "        print(row_str)\n",
        "else:\n",
        "    print(\"unsat\")\n"
      ],
      "metadata": {
        "id": "E56fFoT7CqpY",
        "colab": {
          "base_uri": "https://localhost:8080/",
          "height": 0
        },
        "outputId": "8462df93-b1c9-4de4-8394-36fa3de72954"
      },
      "execution_count": 4,
      "outputs": [
        {
          "output_type": "stream",
          "name": "stdout",
          "text": [
            " 4 8 3 | 7 2 6 | 1 5 9\n",
            " 7 2 6 | 1 5 9 | 4 8 3\n",
            " 1 5 9 | 4 8 3 | 7 2 6\n",
            "-------------------------\n",
            " 8 3 7 | 2 6 1 | 5 9 4\n",
            " 2 6 1 | 5 9 4 | 8 3 7\n",
            " 5 9 4 | 8 3 7 | 2 6 1\n",
            "-------------------------\n",
            " 3 7 2 | 6 1 5 | 9 4 8\n",
            " 6 1 5 | 9 4 8 | 3 7 2\n",
            " 9 4 8 | 3 7 2 | 6 1 5\n"
          ]
        }
      ]
    },
    {
      "cell_type": "markdown",
      "source": [
        "---\n",
        "# Number Challenge in Z3py\n",
        "\n",
        "Write Z3py code to solve the Number Challenge puzzle shown below and print the solution found. You can use the `Int` type to create integer variables in z3py. **(20 points)**\n",
        "\n",
        "<img src=\"https://raw.githubusercontent.com/stanleybak/CS7320-AI/master/Knowledge-based/chal.jpg\" width=\"300\"/>"
      ],
      "metadata": {
        "id": "Pjlb4qe5XAGF"
      }
    },
    {
      "cell_type": "code",
      "source": [
        "# Write your solution code for Number Challenge using z3py\n",
        "from z3 import *\n",
        "\n",
        "\n",
        "s = Solver()\n",
        "\n",
        "\n",
        "grid = [Int(f'{i}') for i in range(8)]\n",
        "\n",
        "#add all the possible number options\n",
        "for num in grid:\n",
        "  s.add(num >= 1, num <= 8)\n",
        "\n",
        "#ensure every pair of values is different\n",
        "for i in range(8):\n",
        "    for j in range(i+1,8):\n",
        "        s.add(grid[i] != grid[j])\n",
        "\n",
        "pos =      [(0,1), (0,2),\n",
        "     (1,0), (1,1), (1,2), (1,3),\n",
        "            (2,1), (2,2)]\n",
        "\n",
        "#consecutive numbers and diagonal consecutive\n",
        "for i in range(8):\n",
        "  for j in range(i+1,8):\n",
        "    r1, c1 = pos[i]\n",
        "    r2, c2 = pos[j]\n",
        "    if abs(r1 - r2) <= 1 and abs(c1 - c2) <= 1:\n",
        "      s.add(Abs(grid[i] - grid[j]) != 1)\n",
        "\n",
        "if s.check() == sat:\n",
        "  m = s.model()\n",
        "  sol = [ m[c].as_long() for c in grid ]\n",
        "\n",
        "  print(f'   |{sol[0]} | {sol[1]}|')\n",
        "  print(\"-------------\")\n",
        "  print(f'{sol[2]} | {sol[3]} | {sol[4]} | {sol[5]}')\n",
        "  print(\"-------------\")\n",
        "  print(f'   |{sol[6]} | {sol[7]}|')\n",
        "else:\n",
        "  print('unsat')\n"
      ],
      "metadata": {
        "id": "zsQCwxTbY5Sg",
        "outputId": "b66bffd6-0dfe-44f7-e7a7-229f45851c46",
        "colab": {
          "base_uri": "https://localhost:8080/",
          "height": 0
        }
      },
      "execution_count": 22,
      "outputs": [
        {
          "output_type": "stream",
          "name": "stdout",
          "text": [
            "   |5 | 3|\n",
            "-------------\n",
            "2 | 8 | 1 | 7\n",
            "-------------\n",
            "   |6 | 4|\n"
          ]
        }
      ]
    },
    {
      "cell_type": "markdown",
      "source": [
        "\n",
        "\n",
        "\n",
        "---\n",
        "\n",
        "\n",
        "# Propositional Logic\n",
        "\n",
        "Next, we will use truth tables and z3py to prove logical entailment.\n",
        "\n",
        "## Truth Tables\n",
        "\n",
        "Using markdown tables and bold to show relevant rows, use the truth table method to show logical truths.\n",
        "\n",
        "\n",
        "### Example\n",
        "\n",
        "Here's an example that shows $p, p \\rightarrow q \\models q$.  \n",
        "\n",
        "| p | q | p -> q |\n",
        "|-------|-------|---------------------|\n",
        "| **T**     | **T**     | **T**                   |\n",
        "| T     | F     | F                   |\n",
        "| F     | T     | T                   |\n",
        "| F     | F     | T                   |\n",
        "\n",
        "Since $q$ is true whenever $p$ and $p \\rightarrow q$ are true, the expression is true.\n",
        "\n",
        "### Questions\n",
        "\n",
        "Prove that the following semantic entailment expressions are true by using the truth table approach.  Bold the appropriate rows **(7 point)**\n",
        "\n",
        " * $(p\\rightarrow q)\\rightarrow r, s \\rightarrow \\neg p, t, \\neg s, t \\rightarrow q \\models r$\n",
        " * $\\emptyset \\models q \\rightarrow (p \\rightarrow (p \\rightarrow (q \\rightarrow p)))$"
      ],
      "metadata": {
        "id": "sy985abkCrfR"
      }
    },
    {
      "cell_type": "markdown",
      "source": [
        "p  q  r  s  ¬p  t  ¬s | p -> q | (p -> q) -> r | s -> ¬p | t -> q\n",
        "T  T  T  F   F  T   T      T          T           T           T\n",
        "F  T  T  T   T  F   F      T          T           T           T\n",
        "F  F  T  T   T  F   F      T          T           T           T\n",
        "\n",
        "\n",
        "\n",
        "\n",
        "p q | q -> p| p -> (q -> p)| p -> (p -> (q -> p)) | q -> (p -> (p -> (q -> p)) )\n",
        "T T     T           T               T                        T\n",
        "T F     T           T               T                        T\n",
        "F F     T           T               T                        T\n",
        "F T     F           T               T                        T"
      ],
      "metadata": {
        "id": "wyZsntivFueN"
      }
    },
    {
      "cell_type": "markdown",
      "source": [
        "\n",
        "\n",
        "---\n",
        "\n",
        "\n",
        " ## Logical Entailment using z3py\n",
        "\n",
        " Use Z3py to prove the above two entailments are true using satisfiability. See section 7.5 in the book for details. **(8 points)**"
      ],
      "metadata": {
        "id": "q7le6n2jFu4l"
      }
    },
    {
      "cell_type": "code",
      "source": [
        "from z3 import *\n",
        "\n",
        "s1 = Solver()\n",
        "\n",
        "p, q, r, s, t = Bools('p q r s t')\n",
        "\n",
        "s1.add(Implies(Implies(p,q),r)) # (p -> q) -> r\n",
        "s1.add(Implies(s,Not(p))) # s -> ! p\n",
        "s1.add(t)\n",
        "s1.add(Not(s))\n",
        "s1.add(Implies(t,q)) # t -> q\n",
        "s1.add(Not(r)) #negation of solution\n",
        "\n",
        "if s1.check() == sat:\n",
        "  print('invalid')\n",
        "else:\n",
        "  print('valid')\n",
        "\n",
        "\n",
        "p, q = Bools('p q')\n",
        "s2 = Solver()\n",
        "proposition = Implies(q,Implies(p,Implies(p,Implies(q,p))))\n",
        "s2.add(Not(proposition))\n",
        "\n",
        "if s2.check() == sat:\n",
        "  print('invalid')\n",
        "else:\n",
        "  print('valid')"
      ],
      "metadata": {
        "id": "Z80-O6FGDtjp",
        "colab": {
          "base_uri": "https://localhost:8080/",
          "height": 0
        },
        "outputId": "fc1ddb8a-ab9d-4bcc-ffce-0080c3e5bc3b"
      },
      "execution_count": 35,
      "outputs": [
        {
          "output_type": "stream",
          "name": "stdout",
          "text": [
            "valid\n",
            "valid\n"
          ]
        }
      ]
    }
  ],
  "metadata": {
    "kernelspec": {
      "display_name": "Python 3",
      "language": "python",
      "name": "python3"
    },
    "language_info": {
      "codemirror_mode": {
        "name": "ipython",
        "version": 3
      },
      "file_extension": ".py",
      "mimetype": "text/x-python",
      "name": "python",
      "nbconvert_exporter": "python",
      "pygments_lexer": "ipython3",
      "version": "3.8.5"
    },
    "colab": {
      "provenance": []
    }
  },
  "nbformat": 4,
  "nbformat_minor": 0
}
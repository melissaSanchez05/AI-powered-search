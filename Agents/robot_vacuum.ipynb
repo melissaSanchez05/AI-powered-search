{
  "cells": [
    {
      "cell_type": "markdown",
      "metadata": {
        "id": "0FyddoM3jF_d"
      },
      "source": [
        "# SBU CSE 352 - HW 1 -  Intelligent Agents: Reflex-Based Agents for the Vacuum-cleaner World\n",
        "\n",
        "---\n",
        "\n",
        "Name: [Add your name]\n",
        "\n",
        "I understand that my submission needs to be my own work: [enter 'yes']\n",
        "\n",
        "## Instructions\n",
        "\n",
        "Total Points: 100\n",
        "\n",
        "Complete this notebook. Use the provided notebook cells and insert additional code and markdown cells as needed. Only use standard packages (numpy, scipy, and built-in packages like random). Submit the completely rendered notebook as a HTML file.\n",
        "\n",
        "## Introduction\n",
        "\n",
        "In this assignment you will implement a simulator environment for an automatic vacuum cleaner robot, a set of different reflex-based agent programs, and perform a comparison study for cleaning a single room. Focus on the __cleaning phase__ which starts when the robot is activated and ends when the last dirty square in the room has been cleaned. Someone else will take care of the agent program needed to navigate back to the charging station after the room is clean.\n",
        "\n",
        "## PEAS description of the cleaning phase\n",
        "\n",
        "__Performance Measure:__ Each action costs 1 energy unit. The performance is measured as the sum of the energy units used to clean the whole room.\n",
        "\n",
        "__Environment:__ A room with $n \\times n$ squares where $n = 5$. Dirt is randomly placed on each square with probability $p = 0.2$. For simplicity, you can assume that the agent knows the size and the layout of the room (i.e., it knows $n$). To start, the agent is placed on a random square.\n",
        "\n",
        "__Actuators:__ The agent can clean the current square (action `suck`) or move to an adjacent square by going `north`, `east`, `south`, or `west`.\n",
        "\n",
        "__Sensors:__ Four bumper sensors, one for north, east, south, and west; a dirt sensor reporting dirt in the current square.  \n",
        "\n",
        "\n",
        "## The agent program for a simple randomized agent\n",
        "\n",
        "The agent program is a function that gets sensor information (the current percepts) as the arguments. The arguments are:\n",
        "\n",
        "* A dictionary with boolean entries for the for bumper sensors `north`, `east`, `west`, `south`. E.g., if the agent is on the north-west corner, `bumpers` will be `{\"north\" : True, \"east\" : False, \"south\" : False, \"west\" : True}`.\n",
        "* The dirt sensor produces a boolean.\n",
        "\n",
        "The agent returns the chosen action as a string.\n",
        "\n",
        "Here is an example implementation for the agent program of a simple randomized agent:  "
      ]
    },
    {
      "cell_type": "code",
      "execution_count": 3,
      "metadata": {
        "id": "2fDxkbCajF_f"
      },
      "outputs": [],
      "source": [
        "import numpy as np\n",
        "\n",
        "actions = [\"north\", \"east\", \"west\", \"south\", \"suck\"]\n",
        "\n",
        "def simple_randomized_agent(bumpers, dirty):\n",
        "    return np.random.choice(actions)"
      ]
    },
    {
      "cell_type": "code",
      "execution_count": 4,
      "metadata": {
        "id": "QrLrE1XPjF_g",
        "outputId": "82c516f9-4aca-4554-e47c-dad9cf8c8900",
        "colab": {
          "base_uri": "https://localhost:8080/",
          "height": 35
        }
      },
      "outputs": [
        {
          "output_type": "execute_result",
          "data": {
            "text/plain": [
              "'suck'"
            ],
            "application/vnd.google.colaboratory.intrinsic+json": {
              "type": "string"
            }
          },
          "metadata": {},
          "execution_count": 4
        }
      ],
      "source": [
        "# define percepts (current location is NW corner and it is dirty)\n",
        "bumpers = {\"north\" : True, \"east\" : False, \"south\" : False, \"west\" : True}\n",
        "dirty = True\n",
        "\n",
        "# call agent program function with percepts and it returns an action\n",
        "simple_randomized_agent(bumpers, dirty)"
      ]
    },
    {
      "cell_type": "markdown",
      "metadata": {
        "id": "GB5AWgpmjF_g"
      },
      "source": [
        "__Note:__ This is not a rational intelligent agent. It ignores its sensors and may bump into a wall repeatedly or not clean a dirty square. You will be asked to implement rational agents below."
      ]
    },
    {
      "cell_type": "markdown",
      "metadata": {
        "id": "I_r7AxrIjF_g"
      },
      "source": [
        "## Simple environment example\n",
        "\n",
        "We implement a simple simulation environment that supplies the agent with its percepts.\n",
        "The simple environment is infinite in size (bumpers are always `False`) and every square is always dirty, even if the agent cleans it. The environment function returns a performance measure which is here the number of cleaned squares (since the room is infinite and all squares are constantly dirty, the agent can never clean the whole room as required in the PEAS description above). The energy budget of the agent is specified as `max_steps`."
      ]
    },
    {
      "cell_type": "code",
      "execution_count": 5,
      "metadata": {
        "id": "OdiZBgUqjF_h"
      },
      "outputs": [],
      "source": [
        "def simple_environment(agent, max_steps, verbose = True):\n",
        "    num_cleaned = 0\n",
        "\n",
        "    for i in range(max_steps):\n",
        "        dirty = True\n",
        "        bumpers = {\"north\" : False, \"south\" : False, \"west\" : False, \"east\" : False}\n",
        "\n",
        "        action = agent(bumpers, dirty)\n",
        "        if (verbose): print(\"step\", i , \"- action:\", action)\n",
        "\n",
        "        if (action == \"suck\"):\n",
        "            num_cleaned = num_cleaned + 1\n",
        "\n",
        "    return num_cleaned\n",
        "\n"
      ]
    },
    {
      "cell_type": "markdown",
      "metadata": {
        "id": "Tdt7xvQkjF_h"
      },
      "source": [
        "Do one simulation run with a simple randomized agent that has enough energy for 20 steps."
      ]
    },
    {
      "cell_type": "code",
      "execution_count": 4,
      "metadata": {
        "id": "YBwp8uTEjF_h",
        "outputId": "5fd44f03-fc71-4b30-b6ee-6d45cdbdc18d",
        "colab": {
          "base_uri": "https://localhost:8080/",
          "height": 0
        }
      },
      "outputs": [
        {
          "output_type": "stream",
          "name": "stdout",
          "text": [
            "step 0 - action: suck\n",
            "step 1 - action: west\n",
            "step 2 - action: suck\n",
            "step 3 - action: north\n",
            "step 4 - action: east\n",
            "step 5 - action: east\n",
            "step 6 - action: south\n",
            "step 7 - action: south\n",
            "step 8 - action: south\n",
            "step 9 - action: north\n",
            "step 10 - action: east\n",
            "step 11 - action: west\n",
            "step 12 - action: east\n",
            "step 13 - action: west\n",
            "step 14 - action: suck\n",
            "step 15 - action: north\n",
            "step 16 - action: suck\n",
            "step 17 - action: east\n",
            "step 18 - action: suck\n",
            "step 19 - action: west\n"
          ]
        },
        {
          "output_type": "execute_result",
          "data": {
            "text/plain": [
              "5"
            ]
          },
          "metadata": {},
          "execution_count": 4
        }
      ],
      "source": [
        "simple_environment(simple_randomized_agent, max_steps = 20)"
      ]
    },
    {
      "cell_type": "markdown",
      "metadata": {
        "id": "G_qQj5brjF_i"
      },
      "source": [
        "# Tasks\n",
        "\n",
        "## General [10 Points]\n",
        "\n",
        "1. Your implementation can use libraries like math, numpy, scipy, but not libraries that implement intelligent agents or complete search algorithms. Try to keep the code simple! In this course, we want to learn about the algorithms and we often do not need to use object-oriented design, for example. If it makes your code more simple objects are okay, but try to keep the code as simple as possible.\n",
        "2. You notebook needs to be formatted professionally.\n",
        "    - Add additional markdown blocks for your description, comments in the code, add tables and use mathplotlib to produce charts where appropriate\n",
        "    - Do not show debugging output or include an excessive amount of output.\n",
        "    - Check that your PDF file is readable. For example, long lines are cut off in the PDF file. You don't have control over page breaks, so do not worry about these.\n",
        "3. Document your code. Add a short discussion of how your implementation works and your design choices.\n",
        "\n",
        "\n",
        "## Task 1: Implement a simulation environment [20 Points]\n",
        "\n",
        "The simple environment above is not very realistic. Your environment simulator needs to follow the PEAS description from above. It needs to:\n",
        "\n",
        "* Initialize the environment by storing the state of each square (clean/dirty) and making some dirty. ([Help with random numbers and arrays in Python](https://github.com/mhahsler/CS7320-AI/blob/master/HOWTOs/random_numbers_and_arrays.ipynb))\n",
        "* Keep track of the agent's position.\n",
        "* Call the agent function repeatedly and provide the agent function with the sensor inputs.  \n",
        "* React to the agent's actions. E.g, by removing dirt from a square or moving the agent around unless there is a wall in the way.\n",
        "* Keep track of the performance measure. That is, track the agent's actions until all dirty squares are clean and count the number of actions it takes the agent to complete the task.\n",
        "\n",
        "The easiest implementation for the environment is to hold an 2-dimensional array to represent if squares are clean or dirty and to call the agent function in a loop until all squares are clean or a predefined number of steps have been reached (i.e., the robot runs out of energy).\n",
        "\n",
        "The simulation environment should be a function like the `simple_environment()` and needs to work with the simple randomized agent program from above. **Use the same environment for all your agent implementations in the tasks below.**\n",
        "\n",
        "*Note on debugging:* Debugging is difficult. Make sure your environment prints enough information when you use `verbose = True`. Also, implementing a function that the environment can use to displays the room with dirt and the current position of the robot at every step is very useful.  "
      ]
    },
    {
      "cell_type": "code",
      "execution_count": 6,
      "metadata": {
        "id": "f_a8GJKYjF_i"
      },
      "outputs": [],
      "source": [
        "\n",
        "import numpy as np\n",
        "import random\n",
        "\n",
        "def print_room(room, pos_x , pos_y , n):\n",
        "        for i in range(n):\n",
        "            row = \"\"\n",
        "            for j in range(n):\n",
        "                if (i, j) == (pos_x, pos_y):\n",
        "                    row += \" P \"  # robot currenbt position\n",
        "                elif room[i, j] == \"dirty\":\n",
        "                    row += \" D \"  # dirty tile\n",
        "                else:\n",
        "                    row += \" . \"  # clean tile\n",
        "            print(row)\n",
        "        print(\"\\n\")\n",
        "\n",
        "def simulation_environment(agent, n=5, dirt_prob=0.2, max_steps=10, verbose=True):\n",
        "  #room size n by n with dirt probability of 0.2\n",
        "  room = np.random.choice(['clean', 'dirty'], size=(n, n), p=[1 - dirt_prob, dirt_prob])\n",
        "  #initial position\n",
        "  pos_x , pos_y = random.randint(0, n - 1), random.randint(0, n - 1)\n",
        "  cost = 0\n",
        "  '''       N\n",
        "        00 -> 04\n",
        "      W 10 -> 14  E\n",
        "\n",
        "            S       '''\n",
        "  count = 0\n",
        "  while 'dirty' in room :\n",
        "\n",
        "    bumpers = {\n",
        "        \"north\" : pos_x == 0,\n",
        "        \"south\" : pos_x == n-1,\n",
        "        \"west\" :  pos_y == 0,\n",
        "        \"east\" :  pos_y == n-1}\n",
        "\n",
        "    room_status = (room[pos_x, pos_y] == 'dirty')\n",
        "    action = agent(bumpers, room_status)\n",
        "    cost+=1\n",
        "    # follow instructiosn from the agent function if possible\n",
        "    if action == 'suck' :\n",
        "      room[pos_x ,pos_y] = 'clean'\n",
        "    elif action == \"north\" and not bumpers[\"north\"]:\n",
        "      pos_x-=1\n",
        "    elif action == \"south\" and not bumpers[\"south\"]:\n",
        "      pos_x+=1\n",
        "    elif action == \"west\" and not bumpers[\"west\"]:\n",
        "      pos_y-=1\n",
        "    elif action == \"east\" and not bumpers[\"east\"]:\n",
        "      pos_y+=1\n",
        "    '''\n",
        "    if verbose:\n",
        "      print(f\"Step {cost}: Action = {action}\")\n",
        "      print_room(room, pos_x , pos_y , n)\n",
        "    '''\n",
        "    count+=1\n",
        "    if count == max_steps:\n",
        "      return cost\n",
        "\n",
        "\n",
        "  return cost\n",
        "\n"
      ]
    },
    {
      "cell_type": "markdown",
      "metadata": {
        "id": "gXsl-EjMjF_j"
      },
      "source": [
        "## Task 2:  Implement a simple reflex agent [10 Points]\n",
        "\n",
        "The simple reflex agent randomly walks around but reacts to the bumper sensor by not bumping into the wall and to dirt with sucking. Implement the agent program as a function.\n",
        "\n",
        "_Note:_ Agents cannot directly use variable in the environment. They only gets the percepts as the arguments to the agent function."
      ]
    },
    {
      "cell_type": "code",
      "execution_count": 7,
      "metadata": {
        "id": "Q0ddGaBNjF_j"
      },
      "outputs": [],
      "source": [
        "def simple_reflex_agent(bumpers, dirty):\n",
        "  actions = [\"north\", \"east\", \"west\", \"south\"]\n",
        "  if dirty:\n",
        "    return 'suck'\n",
        "\n",
        "  #single true\n",
        "  #corners: NW, NE, SW, SE\n",
        "  #all false\n",
        "\n",
        "  #remove current location/position and return a ramdom position\n",
        "  posible_actions = [action for action in actions if not bumpers[action]]\n",
        "  if posible_actions:\n",
        "    return np.random.choice(posible_actions)\n",
        "  else:\n",
        "    return 'suck'\n",
        "\n"
      ]
    },
    {
      "cell_type": "markdown",
      "metadata": {
        "id": "M1q8qmwvjF_j"
      },
      "source": [
        "## Task 3: Implement a model-based reflex agent [20 Points]\n",
        "\n",
        "Model-based agents use a state to keep track of what they have done and perceived so far. Your agent needs to find out where it is located and then keep track of its current location. You also need a set of rules based on the state and the percepts to make sure that the agent will clean the whole room. For example, the agent can move to a corner to determine its location and then it can navigate through the whole room and clean dirty squares.\n",
        "\n",
        "Describe how you define the __agent state__ and how your agent works before implementing it. ([Help with implementing state information on Python](https://github.com/mhahsler/CS7320-AI/blob/master/HOWTOs/store_agent_state_information.ipynb))"
      ]
    },
    {
      "cell_type": "code",
      "execution_count": null,
      "metadata": {
        "id": "daAwOtmTjF_j"
      },
      "outputs": [],
      "source": [
        "# Your short description of the state and your implementation goes here\n",
        "'''\n",
        "In order to ensure that the agent cleans the whole room in the least amount of steps/cost, it will need to visit\n",
        "each tile at least once. If the agent detects that the tile is clean it will move to the next position avilable position. If the\n",
        "agent perceives that the tile is dirty it will clean it and move on to the next tile.\n",
        "my agent state will be a set that keeps tracks of positions/coordenates/tiles (x,y) visited by the agent.\n",
        "\n",
        "The agent function will have acces to the bumpers, current state of the tiles (clean/dirty), current posiiton (x,y), and the set of visited tiles.\n",
        "The function will first check if the current tile is dirty, if so will return 'suck'. If the tile is clean the function will check if neigbhor tiles\n",
        "are posible to visit, if so it will add that option to an array. once all options are finalized, the agent will randomly pick one to return.\n",
        "In the case that no posible actions were captured (neigbor tiles are already visited), the agent will return a ramdom position not including the current one.\n",
        "'''"
      ]
    },
    {
      "cell_type": "code",
      "execution_count": 10,
      "metadata": {
        "id": "wZqL8CCAjF_j"
      },
      "outputs": [],
      "source": [
        "# Your code goes here\n",
        "def model_based_agent(bumpers, dirty, current_position, visited_tiles):\n",
        "\n",
        "  if dirty:\n",
        "    return 'suck'\n",
        "\n",
        "  x, y = current_position\n",
        "  current_location = [key for key, value in bumpers.items() if not value]\n",
        "  posible_actions = []\n",
        "\n",
        "  for location in current_location:\n",
        "    match location:\n",
        "      case 'north':\n",
        "        if (x - 1, y) not in visited_tiles:\n",
        "          posible_actions.append('north')\n",
        "      case 'south':\n",
        "        if (x + 1, y) not in visited_tiles:\n",
        "          posible_actions.append('south')\n",
        "      case 'east':\n",
        "        if (x, y + 1) not in visited_tiles:\n",
        "          posible_actions.append('east')\n",
        "      case 'west':\n",
        "        if (x , y - 1) not in visited_tiles:\n",
        "          posible_actions.append('west')\n",
        "  if posible_actions:\n",
        "    return np.random.choice(posible_actions)\n",
        "\n",
        "  #if neighbors are already visited, visit any ramdom location\n",
        "  if current_location:\n",
        "    return np.random.choice(current_location)\n",
        "  else:\n",
        "    return 'suck'\n",
        "\n",
        "\n",
        "def simulation_environment_model_based(agent, n=5, dirt_prob=0.2, max_steps=10, verbose=True):\n",
        "  #room size n by n with dirt probability of 0.2\n",
        "  room = np.random.choice(['clean', 'dirty'], size=(n, n), p=[1 - dirt_prob, dirt_prob])\n",
        "  #initial position\n",
        "  pos_x , pos_y = random.randint(0, n - 1), random.randint(0, n - 1)\n",
        "  cost = 0\n",
        "\n",
        "  tiles_visited = set()\n",
        "  count=0\n",
        "\n",
        "  while 'dirty' in room:\n",
        "    bumpers = {\n",
        "        \"north\" : pos_x == 0,\n",
        "        \"south\" : pos_x == n-1,\n",
        "        \"west\" :  pos_y == 0,\n",
        "        \"east\" :  pos_y == n-1}\n",
        "\n",
        "    cost+=1\n",
        "    tiles_visited.add((pos_x,pos_y)) #update visited tiles in the room\n",
        "    room_status = (room[pos_x, pos_y] == 'dirty')\n",
        "    action = agent(bumpers, room_status, (pos_x,pos_y), tiles_visited)\n",
        "\n",
        "    if action == 'suck' :\n",
        "      room[pos_x ,pos_y] = 'clean'\n",
        "    elif action == \"north\" and not bumpers[\"north\"]:\n",
        "      pos_x-=1\n",
        "    elif action == \"south\" and not bumpers[\"south\"]:\n",
        "      pos_x+=1\n",
        "    elif action == \"west\" and not bumpers[\"west\"]:\n",
        "      pos_y-=1\n",
        "    elif action == \"east\" and not bumpers[\"east\"]:\n",
        "      pos_y+=1\n",
        "    '''\n",
        "    if verbose:\n",
        "      print(f\"Step {cost}: Action = {action}\")\n",
        "      print_room(room, pos_x , pos_y , n)\n",
        "    '''\n",
        "    count+=1\n",
        "    if count == max_steps:\n",
        "      return cost\n",
        "  return cost\n",
        "\n",
        "\n"
      ]
    },
    {
      "cell_type": "markdown",
      "metadata": {
        "id": "Qi3JK-9hjF_k"
      },
      "source": [
        "## Task 4: Simulation study [30 Points]\n",
        "\n",
        "Compare the performance (the performance measure is defined in the PEAS description above) of the agents using  environments of different size. E.g., $5 \\times 5$, $10 \\times 10$ and\n",
        "$100 \\times 100$. Use 100 random runs for each with 100000 max steps. Present the results using tables and graphs. Discuss the differences between the agents.\n",
        "([Help with charts and tables in Python](https://github.com/mhahsler/CS7320-AI/blob/master/HOWTOs/charts_and_tables.ipynb))"
      ]
    },
    {
      "cell_type": "code",
      "execution_count": 11,
      "metadata": {
        "id": "ccpkRw9VjF_k",
        "colab": {
          "base_uri": "https://localhost:8080/",
          "height": 143
        },
        "outputId": "570975eb-7263-4fee-9637-7d98f5cd8594"
      },
      "outputs": [
        {
          "output_type": "execute_result",
          "data": {
            "text/plain": [
              "      Size  Randomized Agent  Simple Reflex Agent  Model-based Reflex Agent\n",
              "0      5x5            419.65               109.53                     35.85\n",
              "1    10x10           3217.46               951.52                    324.81\n",
              "2  100x100         100000.00            100000.00                  99695.73"
            ],
            "text/html": [
              "\n",
              "  <div id=\"df-d7ed0035-322f-4de0-a470-e2f452d8f7cb\" class=\"colab-df-container\">\n",
              "    <div>\n",
              "<style scoped>\n",
              "    .dataframe tbody tr th:only-of-type {\n",
              "        vertical-align: middle;\n",
              "    }\n",
              "\n",
              "    .dataframe tbody tr th {\n",
              "        vertical-align: top;\n",
              "    }\n",
              "\n",
              "    .dataframe thead th {\n",
              "        text-align: right;\n",
              "    }\n",
              "</style>\n",
              "<table border=\"1\" class=\"dataframe\">\n",
              "  <thead>\n",
              "    <tr style=\"text-align: right;\">\n",
              "      <th></th>\n",
              "      <th>Size</th>\n",
              "      <th>Randomized Agent</th>\n",
              "      <th>Simple Reflex Agent</th>\n",
              "      <th>Model-based Reflex Agent</th>\n",
              "    </tr>\n",
              "  </thead>\n",
              "  <tbody>\n",
              "    <tr>\n",
              "      <th>0</th>\n",
              "      <td>5x5</td>\n",
              "      <td>419.65</td>\n",
              "      <td>109.53</td>\n",
              "      <td>35.85</td>\n",
              "    </tr>\n",
              "    <tr>\n",
              "      <th>1</th>\n",
              "      <td>10x10</td>\n",
              "      <td>3217.46</td>\n",
              "      <td>951.52</td>\n",
              "      <td>324.81</td>\n",
              "    </tr>\n",
              "    <tr>\n",
              "      <th>2</th>\n",
              "      <td>100x100</td>\n",
              "      <td>100000.00</td>\n",
              "      <td>100000.00</td>\n",
              "      <td>99695.73</td>\n",
              "    </tr>\n",
              "  </tbody>\n",
              "</table>\n",
              "</div>\n",
              "    <div class=\"colab-df-buttons\">\n",
              "\n",
              "  <div class=\"colab-df-container\">\n",
              "    <button class=\"colab-df-convert\" onclick=\"convertToInteractive('df-d7ed0035-322f-4de0-a470-e2f452d8f7cb')\"\n",
              "            title=\"Convert this dataframe to an interactive table.\"\n",
              "            style=\"display:none;\">\n",
              "\n",
              "  <svg xmlns=\"http://www.w3.org/2000/svg\" height=\"24px\" viewBox=\"0 -960 960 960\">\n",
              "    <path d=\"M120-120v-720h720v720H120Zm60-500h600v-160H180v160Zm220 220h160v-160H400v160Zm0 220h160v-160H400v160ZM180-400h160v-160H180v160Zm440 0h160v-160H620v160ZM180-180h160v-160H180v160Zm440 0h160v-160H620v160Z\"/>\n",
              "  </svg>\n",
              "    </button>\n",
              "\n",
              "  <style>\n",
              "    .colab-df-container {\n",
              "      display:flex;\n",
              "      gap: 12px;\n",
              "    }\n",
              "\n",
              "    .colab-df-convert {\n",
              "      background-color: #E8F0FE;\n",
              "      border: none;\n",
              "      border-radius: 50%;\n",
              "      cursor: pointer;\n",
              "      display: none;\n",
              "      fill: #1967D2;\n",
              "      height: 32px;\n",
              "      padding: 0 0 0 0;\n",
              "      width: 32px;\n",
              "    }\n",
              "\n",
              "    .colab-df-convert:hover {\n",
              "      background-color: #E2EBFA;\n",
              "      box-shadow: 0px 1px 2px rgba(60, 64, 67, 0.3), 0px 1px 3px 1px rgba(60, 64, 67, 0.15);\n",
              "      fill: #174EA6;\n",
              "    }\n",
              "\n",
              "    .colab-df-buttons div {\n",
              "      margin-bottom: 4px;\n",
              "    }\n",
              "\n",
              "    [theme=dark] .colab-df-convert {\n",
              "      background-color: #3B4455;\n",
              "      fill: #D2E3FC;\n",
              "    }\n",
              "\n",
              "    [theme=dark] .colab-df-convert:hover {\n",
              "      background-color: #434B5C;\n",
              "      box-shadow: 0px 1px 3px 1px rgba(0, 0, 0, 0.15);\n",
              "      filter: drop-shadow(0px 1px 2px rgba(0, 0, 0, 0.3));\n",
              "      fill: #FFFFFF;\n",
              "    }\n",
              "  </style>\n",
              "\n",
              "    <script>\n",
              "      const buttonEl =\n",
              "        document.querySelector('#df-d7ed0035-322f-4de0-a470-e2f452d8f7cb button.colab-df-convert');\n",
              "      buttonEl.style.display =\n",
              "        google.colab.kernel.accessAllowed ? 'block' : 'none';\n",
              "\n",
              "      async function convertToInteractive(key) {\n",
              "        const element = document.querySelector('#df-d7ed0035-322f-4de0-a470-e2f452d8f7cb');\n",
              "        const dataTable =\n",
              "          await google.colab.kernel.invokeFunction('convertToInteractive',\n",
              "                                                    [key], {});\n",
              "        if (!dataTable) return;\n",
              "\n",
              "        const docLinkHtml = 'Like what you see? Visit the ' +\n",
              "          '<a target=\"_blank\" href=https://colab.research.google.com/notebooks/data_table.ipynb>data table notebook</a>'\n",
              "          + ' to learn more about interactive tables.';\n",
              "        element.innerHTML = '';\n",
              "        dataTable['output_type'] = 'display_data';\n",
              "        await google.colab.output.renderOutput(dataTable, element);\n",
              "        const docLink = document.createElement('div');\n",
              "        docLink.innerHTML = docLinkHtml;\n",
              "        element.appendChild(docLink);\n",
              "      }\n",
              "    </script>\n",
              "  </div>\n",
              "\n",
              "\n",
              "<div id=\"df-2ba86a6f-cb33-4f96-84b6-5ac0c58459ab\">\n",
              "  <button class=\"colab-df-quickchart\" onclick=\"quickchart('df-2ba86a6f-cb33-4f96-84b6-5ac0c58459ab')\"\n",
              "            title=\"Suggest charts\"\n",
              "            style=\"display:none;\">\n",
              "\n",
              "<svg xmlns=\"http://www.w3.org/2000/svg\" height=\"24px\"viewBox=\"0 0 24 24\"\n",
              "     width=\"24px\">\n",
              "    <g>\n",
              "        <path d=\"M19 3H5c-1.1 0-2 .9-2 2v14c0 1.1.9 2 2 2h14c1.1 0 2-.9 2-2V5c0-1.1-.9-2-2-2zM9 17H7v-7h2v7zm4 0h-2V7h2v10zm4 0h-2v-4h2v4z\"/>\n",
              "    </g>\n",
              "</svg>\n",
              "  </button>\n",
              "\n",
              "<style>\n",
              "  .colab-df-quickchart {\n",
              "      --bg-color: #E8F0FE;\n",
              "      --fill-color: #1967D2;\n",
              "      --hover-bg-color: #E2EBFA;\n",
              "      --hover-fill-color: #174EA6;\n",
              "      --disabled-fill-color: #AAA;\n",
              "      --disabled-bg-color: #DDD;\n",
              "  }\n",
              "\n",
              "  [theme=dark] .colab-df-quickchart {\n",
              "      --bg-color: #3B4455;\n",
              "      --fill-color: #D2E3FC;\n",
              "      --hover-bg-color: #434B5C;\n",
              "      --hover-fill-color: #FFFFFF;\n",
              "      --disabled-bg-color: #3B4455;\n",
              "      --disabled-fill-color: #666;\n",
              "  }\n",
              "\n",
              "  .colab-df-quickchart {\n",
              "    background-color: var(--bg-color);\n",
              "    border: none;\n",
              "    border-radius: 50%;\n",
              "    cursor: pointer;\n",
              "    display: none;\n",
              "    fill: var(--fill-color);\n",
              "    height: 32px;\n",
              "    padding: 0;\n",
              "    width: 32px;\n",
              "  }\n",
              "\n",
              "  .colab-df-quickchart:hover {\n",
              "    background-color: var(--hover-bg-color);\n",
              "    box-shadow: 0 1px 2px rgba(60, 64, 67, 0.3), 0 1px 3px 1px rgba(60, 64, 67, 0.15);\n",
              "    fill: var(--button-hover-fill-color);\n",
              "  }\n",
              "\n",
              "  .colab-df-quickchart-complete:disabled,\n",
              "  .colab-df-quickchart-complete:disabled:hover {\n",
              "    background-color: var(--disabled-bg-color);\n",
              "    fill: var(--disabled-fill-color);\n",
              "    box-shadow: none;\n",
              "  }\n",
              "\n",
              "  .colab-df-spinner {\n",
              "    border: 2px solid var(--fill-color);\n",
              "    border-color: transparent;\n",
              "    border-bottom-color: var(--fill-color);\n",
              "    animation:\n",
              "      spin 1s steps(1) infinite;\n",
              "  }\n",
              "\n",
              "  @keyframes spin {\n",
              "    0% {\n",
              "      border-color: transparent;\n",
              "      border-bottom-color: var(--fill-color);\n",
              "      border-left-color: var(--fill-color);\n",
              "    }\n",
              "    20% {\n",
              "      border-color: transparent;\n",
              "      border-left-color: var(--fill-color);\n",
              "      border-top-color: var(--fill-color);\n",
              "    }\n",
              "    30% {\n",
              "      border-color: transparent;\n",
              "      border-left-color: var(--fill-color);\n",
              "      border-top-color: var(--fill-color);\n",
              "      border-right-color: var(--fill-color);\n",
              "    }\n",
              "    40% {\n",
              "      border-color: transparent;\n",
              "      border-right-color: var(--fill-color);\n",
              "      border-top-color: var(--fill-color);\n",
              "    }\n",
              "    60% {\n",
              "      border-color: transparent;\n",
              "      border-right-color: var(--fill-color);\n",
              "    }\n",
              "    80% {\n",
              "      border-color: transparent;\n",
              "      border-right-color: var(--fill-color);\n",
              "      border-bottom-color: var(--fill-color);\n",
              "    }\n",
              "    90% {\n",
              "      border-color: transparent;\n",
              "      border-bottom-color: var(--fill-color);\n",
              "    }\n",
              "  }\n",
              "</style>\n",
              "\n",
              "  <script>\n",
              "    async function quickchart(key) {\n",
              "      const quickchartButtonEl =\n",
              "        document.querySelector('#' + key + ' button');\n",
              "      quickchartButtonEl.disabled = true;  // To prevent multiple clicks.\n",
              "      quickchartButtonEl.classList.add('colab-df-spinner');\n",
              "      try {\n",
              "        const charts = await google.colab.kernel.invokeFunction(\n",
              "            'suggestCharts', [key], {});\n",
              "      } catch (error) {\n",
              "        console.error('Error during call to suggestCharts:', error);\n",
              "      }\n",
              "      quickchartButtonEl.classList.remove('colab-df-spinner');\n",
              "      quickchartButtonEl.classList.add('colab-df-quickchart-complete');\n",
              "    }\n",
              "    (() => {\n",
              "      let quickchartButtonEl =\n",
              "        document.querySelector('#df-2ba86a6f-cb33-4f96-84b6-5ac0c58459ab button');\n",
              "      quickchartButtonEl.style.display =\n",
              "        google.colab.kernel.accessAllowed ? 'block' : 'none';\n",
              "    })();\n",
              "  </script>\n",
              "</div>\n",
              "\n",
              "  <div id=\"id_84e5853e-ff60-4e47-8cb3-ae492b95c5e7\">\n",
              "    <style>\n",
              "      .colab-df-generate {\n",
              "        background-color: #E8F0FE;\n",
              "        border: none;\n",
              "        border-radius: 50%;\n",
              "        cursor: pointer;\n",
              "        display: none;\n",
              "        fill: #1967D2;\n",
              "        height: 32px;\n",
              "        padding: 0 0 0 0;\n",
              "        width: 32px;\n",
              "      }\n",
              "\n",
              "      .colab-df-generate:hover {\n",
              "        background-color: #E2EBFA;\n",
              "        box-shadow: 0px 1px 2px rgba(60, 64, 67, 0.3), 0px 1px 3px 1px rgba(60, 64, 67, 0.15);\n",
              "        fill: #174EA6;\n",
              "      }\n",
              "\n",
              "      [theme=dark] .colab-df-generate {\n",
              "        background-color: #3B4455;\n",
              "        fill: #D2E3FC;\n",
              "      }\n",
              "\n",
              "      [theme=dark] .colab-df-generate:hover {\n",
              "        background-color: #434B5C;\n",
              "        box-shadow: 0px 1px 3px 1px rgba(0, 0, 0, 0.15);\n",
              "        filter: drop-shadow(0px 1px 2px rgba(0, 0, 0, 0.3));\n",
              "        fill: #FFFFFF;\n",
              "      }\n",
              "    </style>\n",
              "    <button class=\"colab-df-generate\" onclick=\"generateWithVariable('df')\"\n",
              "            title=\"Generate code using this dataframe.\"\n",
              "            style=\"display:none;\">\n",
              "\n",
              "  <svg xmlns=\"http://www.w3.org/2000/svg\" height=\"24px\"viewBox=\"0 0 24 24\"\n",
              "       width=\"24px\">\n",
              "    <path d=\"M7,19H8.4L18.45,9,17,7.55,7,17.6ZM5,21V16.75L18.45,3.32a2,2,0,0,1,2.83,0l1.4,1.43a1.91,1.91,0,0,1,.58,1.4,1.91,1.91,0,0,1-.58,1.4L9.25,21ZM18.45,9,17,7.55Zm-12,3A5.31,5.31,0,0,0,4.9,8.1,5.31,5.31,0,0,0,1,6.5,5.31,5.31,0,0,0,4.9,4.9,5.31,5.31,0,0,0,6.5,1,5.31,5.31,0,0,0,8.1,4.9,5.31,5.31,0,0,0,12,6.5,5.46,5.46,0,0,0,6.5,12Z\"/>\n",
              "  </svg>\n",
              "    </button>\n",
              "    <script>\n",
              "      (() => {\n",
              "      const buttonEl =\n",
              "        document.querySelector('#id_84e5853e-ff60-4e47-8cb3-ae492b95c5e7 button.colab-df-generate');\n",
              "      buttonEl.style.display =\n",
              "        google.colab.kernel.accessAllowed ? 'block' : 'none';\n",
              "\n",
              "      buttonEl.onclick = () => {\n",
              "        google.colab.notebook.generateWithVariable('df');\n",
              "      }\n",
              "      })();\n",
              "    </script>\n",
              "  </div>\n",
              "\n",
              "    </div>\n",
              "  </div>\n"
            ],
            "application/vnd.google.colaboratory.intrinsic+json": {
              "type": "dataframe",
              "variable_name": "df",
              "summary": "{\n  \"name\": \"df\",\n  \"rows\": 3,\n  \"fields\": [\n    {\n      \"column\": \"Size\",\n      \"properties\": {\n        \"dtype\": \"string\",\n        \"num_unique_values\": 3,\n        \"samples\": [\n          \"5x5\",\n          \"10x10\",\n          \"100x100\"\n        ],\n        \"semantic_type\": \"\",\n        \"description\": \"\"\n      }\n    },\n    {\n      \"column\": \"Randomized Agent\",\n      \"properties\": {\n        \"dtype\": \"number\",\n        \"std\": 56702.342537985445,\n        \"min\": 419.65,\n        \"max\": 100000.0,\n        \"num_unique_values\": 3,\n        \"samples\": [\n          419.65,\n          3217.46,\n          100000.0\n        ],\n        \"semantic_type\": \"\",\n        \"description\": \"\"\n      }\n    },\n    {\n      \"column\": \"Simple Reflex Agent\",\n      \"properties\": {\n        \"dtype\": \"number\",\n        \"std\": 57430.27124883909,\n        \"min\": 109.53,\n        \"max\": 100000.0,\n        \"num_unique_values\": 3,\n        \"samples\": [\n          109.53,\n          951.52,\n          100000.0\n        ],\n        \"semantic_type\": \"\",\n        \"description\": \"\"\n      }\n    },\n    {\n      \"column\": \"Model-based Reflex Agent\",\n      \"properties\": {\n        \"dtype\": \"number\",\n        \"std\": 57455.42463675993,\n        \"min\": 35.85,\n        \"max\": 99695.73,\n        \"num_unique_values\": 3,\n        \"samples\": [\n          35.85,\n          324.81,\n          99695.73\n        ],\n        \"semantic_type\": \"\",\n        \"description\": \"\"\n      }\n    }\n  ]\n}"
            }
          },
          "metadata": {},
          "execution_count": 11
        }
      ],
      "source": [
        "%pip install -q numpy pandas matplotlib tabulate\n",
        "import numpy as np\n",
        "import pandas as pd\n",
        "\n",
        "def performance_measure(simulation, agent, size, max_steps, runs):\n",
        "  dirt_prob=0.2\n",
        "  results=[]\n",
        "  for n in size:\n",
        "    n_results = []\n",
        "    for _ in range(runs):\n",
        "      steps = simulation(agent,n=n,dirt_prob=dirt_prob, max_steps=max_steps)\n",
        "      n_results.append(steps)\n",
        "    results.append(n_results)\n",
        "  return results\n",
        "\n",
        "size = [5,10,100]\n",
        "max_steps = 100000\n",
        "runs = 100\n",
        "\n",
        "random_agent = performance_measure(simulation_environment, simple_randomized_agent, size, max_steps, runs)\n",
        "simple_agent = performance_measure(simulation_environment, simple_reflex_agent, size, max_steps, runs)\n",
        "model_agent = performance_measure(simulation_environment_model_based, model_based_agent, size, max_steps, runs)\n",
        "measure = {\n",
        "    'Size': ['5x5', '10x10', '100x100'],\n",
        "    'Randomized Agent': [np.mean(n_results) for n_results in random_agent],\n",
        "    'Simple Reflex Agent': [np.mean(n_results) for n_results in simple_agent],\n",
        "    'Model-based Reflex Agent': [np.mean(n_results) for n_results in model_agent]\n",
        "}\n",
        "df = pd.DataFrame(measure)\n",
        "df"
      ]
    },
    {
      "cell_type": "markdown",
      "metadata": {
        "id": "tlAtLmp6jF_k"
      },
      "source": [
        "Fill out the following table with the average performance measure for 100 random runs (you may also create this table with code):\n",
        "\n",
        "| Size     | Randomized Agent | Simple Reflex Agent | Model-based Reflex Agent |\n",
        "|----------|------------------|---------------------|--------------------------|\n",
        "| 5x5     |419.65 | 109.53|35.85 |\n",
        "| 10x10   | 3217.46| 951.52|324.81 |\n",
        "| 100x100 | 100000|100000| 99695.73|\n",
        "\n",
        "Add charts to compare the performance of the different agents."
      ]
    },
    {
      "cell_type": "markdown",
      "source": [
        "# Box and whisker plot : Performance of each Agent"
      ],
      "metadata": {
        "id": "wuS9tF6DGs4j"
      }
    },
    {
      "cell_type": "code",
      "execution_count": 28,
      "metadata": {
        "id": "J361sF6yjF_k",
        "colab": {
          "base_uri": "https://localhost:8080/",
          "height": 934
        },
        "outputId": "a24aade1-b18c-4ebc-b0dd-aaf021939432"
      },
      "outputs": [
        {
          "output_type": "stream",
          "name": "stderr",
          "text": [
            "<ipython-input-28-5e6cea6f057e>:7: MatplotlibDeprecationWarning: The 'labels' parameter of boxplot() has been renamed 'tick_labels' since Matplotlib 3.9; support for the old name will be dropped in 3.11.\n",
            "  plt.boxplot(agent_results, labels=['5x5', '10x10', '100x100'])\n",
            "<ipython-input-28-5e6cea6f057e>:7: MatplotlibDeprecationWarning: The 'labels' parameter of boxplot() has been renamed 'tick_labels' since Matplotlib 3.9; support for the old name will be dropped in 3.11.\n",
            "  plt.boxplot(agent_results, labels=['5x5', '10x10', '100x100'])\n",
            "<ipython-input-28-5e6cea6f057e>:7: MatplotlibDeprecationWarning: The 'labels' parameter of boxplot() has been renamed 'tick_labels' since Matplotlib 3.9; support for the old name will be dropped in 3.11.\n",
            "  plt.boxplot(agent_results, labels=['5x5', '10x10', '100x100'])\n"
          ]
        },
        {
          "output_type": "display_data",
          "data": {
            "text/plain": [
              "<Figure size 1200x800 with 3 Axes>"
            ],
            "image/png": "[encoded data removed]"
          },
          "metadata": {}
        }
      ],
      "source": [
        "import matplotlib.pyplot as plt\n",
        "\n",
        "plt.figure(figsize=(12, 8))\n",
        "for i, (agent_results, agent_name) in enumerate(zip([random_agent, simple_agent, model_agent],\n",
        "                                                     ['Randomized Agent', 'Simple Reflex Agent', 'Model-based Reflex Agent'])):\n",
        "    plt.subplot(3, 1, i+1)\n",
        "    plt.boxplot(agent_results, labels=['5x5', '10x10', '100x100'])\n",
        "    plt.title(f\"Performance of {agent_name}\")\n",
        "    plt.ylabel(\"Runs\")\n",
        "plt.xlabel(\"Room Size\")\n",
        "plt.tight_layout()\n",
        "plt.show()\n"
      ]
    },
    {
      "cell_type": "markdown",
      "source": [
        "# Line Plot : Average performance comparison of each Agent"
      ],
      "metadata": {
        "id": "kI0KYAN1G7Mp"
      }
    },
    {
      "cell_type": "code",
      "source": [
        "plt.figure(figsize=(10, 6))\n",
        "for agent in ['Randomized Agent', 'Simple Reflex Agent', 'Model-based Reflex Agent']:\n",
        "    plt.plot(df['Size'], df[agent], marker='o', linestyle='-', label=agent)\n",
        "plt.xlabel(\"Room size\")\n",
        "plt.ylabel(\"Runs\")\n",
        "plt.title(\"Average Performance Comparison of Vacuum Agents\")\n",
        "plt.legend()\n",
        "plt.show()\n"
      ],
      "metadata": {
        "colab": {
          "base_uri": "https://localhost:8080/",
          "height": 564
        },
        "id": "KSNOLC96784t",
        "outputId": "48c44469-9988-438a-857c-10d33151a1f3"
      },
      "execution_count": 24,
      "outputs": [
        {
          "output_type": "display_data",
          "data": {
            "text/plain": [
              "<Figure size 1000x600 with 1 Axes>"
            ],
            "image/png": "[encoded data removed]"
          },
          "metadata": {}
        }
      ]
    },
    {
      "cell_type": "markdown",
      "metadata": {
        "id": "LVOWQhVOjF_k"
      },
      "source": [
        "## Task 5: Robustness of the agent implementations [10 Points]\n",
        "\n",
        "Describe how **your agent implementations** will perform\n",
        "\n",
        "* if it is put into a rectangular room with unknown size,\n",
        "* if the cleaning area can have an irregular shape (e.g., a hallway connecting two rooms), or\n",
        "* if the room contains obstacles (i.e., squares that it cannot pass through and trigger the bumper sensors)."
      ]
    },
    {
      "cell_type": "markdown",
      "source": [
        "1) If an agent were given a rectangular room with unknown size. First, the ramdom agent will perfrom the worse since it has no memory of visited tiles in the room and it could clean a tile that is already clean since the agent deciding the actions is ramdom. Second, the simple agent will perform slightly better since it's agent will only clean dirty tiles and it will avoid to move to directions (N,S,W,E) that is alrey on (bumpers are True). Lastly, the model-based agent will perform the best of the other two since the agent has acces to the internal state, this being a set of coordenates (x,y) of tiles that are already visited. In addition the agent will check if neighbor tiles are not a wall or not visited yet the by the robot, which it will minimize the number of visit of tiles and therfore clean the room in less steps.\n",
        "2)If an agwnet were to be in an irregular shape. The random agent will be able to reach and clean irregular shapes, but it will take a longer number of steps to do so. On the other side, the relfex agent will be able to clean the regular shape (one room wihtout the hallway), and it will have difficulty cleaning and exploring the second room. Lastly, the model-based agent, will clean the two rooms and the hallway with no problme since the inner state allows it to explore all tiles within the given room(two rooms and hallway).\n",
        "3)If the agent faces obstacles. The random agent will be bumping many times with the obsticles adding cost (more steps) to the implementation. On the other side, the reflex agent will avoid the obsticles but it will take a large amount of steps to finish cleaning the room. Lastly, the model-based agent will avoid all obsticles efficiently and its average time will not differ in comparison to without obsticles."
      ],
      "metadata": {
        "id": "tpB-yPM6HHxR"
      }
    }
  ],
  "metadata": {
    "kernelspec": {
      "display_name": "Python 3 (ipykernel)",
      "language": "python",
      "name": "python3"
    },
    "language_info": {
      "codemirror_mode": {
        "name": "ipython",
        "version": 3
      },
      "file_extension": ".py",
      "mimetype": "text/x-python",
      "name": "python",
      "nbconvert_exporter": "python",
      "pygments_lexer": "ipython3",
      "version": "3.10.12"
    },
    "toc-autonumbering": false,
    "colab": {
      "provenance": []
    }
  },
  "nbformat": 4,
  "nbformat_minor": 0
}